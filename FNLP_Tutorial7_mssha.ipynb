{
  "nbformat": 4,
  "nbformat_minor": 0,
  "metadata": {
    "colab": {
      "provenance": [],
      "gpuType": "T4",
      "include_colab_link": true
    },
    "kernelspec": {
      "name": "python3",
      "display_name": "Python 3"
    },
    "language_info": {
      "name": "python"
    },
    "accelerator": "GPU"
  },
  "cells": [
    {
      "cell_type": "markdown",
      "metadata": {
        "id": "view-in-github",
        "colab_type": "text"
      },
      "source": [
        "<a href=\"https://colab.research.google.com/github/myndaaa/Natural-Language-Processing/blob/main/FNLP_Tutorial7_mssha.ipynb\" target=\"_parent\"><img src=\"https://colab.research.google.com/assets/colab-badge.svg\" alt=\"Open In Colab\"/></a>"
      ]
    },
    {
      "cell_type": "markdown",
      "source": [
        "#**COS30081 FNLP Tutorial 7: Question**\n",
        "\n",
        "##**Lab Task Submission at bottom #PassTask6**\n",
        "## **Name:Mysha nahiyan Shemontee**\n",
        "## **Student ID:102773618**\n"
      ],
      "metadata": {
        "id": "vLfZ1GUDciKH"
      }
    },
    {
      "cell_type": "markdown",
      "source": [
        "**Pass Task Description:**\n",
        "\n",
        "There are several forms of LSTM that can be used. At the very basic level a variation of using LSTM would be stack LSTM layers together. A sample code is given below on how it can be easily done using keras.\n",
        "\n",
        "Now try to adapt either from  jupyter notebook 7b or 7c to stack 2, 3 or more layers togethers. Use the same datasets given in the notebook. Include your scripts here. Also Write down your observations (time, performance) [<50 words]\n",
        "\n",
        "**Additional & Optional:**\n",
        "You can try to implement other forms of LSTM such as GRU and bidirectional LSTM as well besides stacking.\n"
      ],
      "metadata": {
        "id": "CYnh4pbzcl1a"
      }
    },
    {
      "cell_type": "code",
      "source": [
        "# example stacking\n",
        "#model.add(LSTM(num_neurons, return_sequences=True, input_shape=X[0].shape))\n",
        "#model.add(LSTM(num_neurons_2, return_sequences=True))"
      ],
      "metadata": {
        "id": "MkUXp8WKckex"
      },
      "execution_count": 42,
      "outputs": []
    },
    {
      "cell_type": "code",
      "source": [
        "!nvidia-smi"
      ],
      "metadata": {
        "colab": {
          "base_uri": "https://localhost:8080/"
        },
        "id": "lqJb6ooU4r0D",
        "outputId": "41cc6c86-973d-4b62-b2ce-8028d4f71f6c"
      },
      "execution_count": 43,
      "outputs": [
        {
          "output_type": "stream",
          "name": "stdout",
          "text": [
            "Sat May 25 19:35:20 2024       \n",
            "+---------------------------------------------------------------------------------------+\n",
            "| NVIDIA-SMI 535.104.05             Driver Version: 535.104.05   CUDA Version: 12.2     |\n",
            "|-----------------------------------------+----------------------+----------------------+\n",
            "| GPU  Name                 Persistence-M | Bus-Id        Disp.A | Volatile Uncorr. ECC |\n",
            "| Fan  Temp   Perf          Pwr:Usage/Cap |         Memory-Usage | GPU-Util  Compute M. |\n",
            "|                                         |                      |               MIG M. |\n",
            "|=========================================+======================+======================|\n",
            "|   0  Tesla T4                       Off | 00000000:00:04.0 Off |                    0 |\n",
            "| N/A   74C    P0              32W /  70W |   2183MiB / 15360MiB |      0%      Default |\n",
            "|                                         |                      |                  N/A |\n",
            "+-----------------------------------------+----------------------+----------------------+\n",
            "                                                                                         \n",
            "+---------------------------------------------------------------------------------------+\n",
            "| Processes:                                                                            |\n",
            "|  GPU   GI   CI        PID   Type   Process name                            GPU Memory |\n",
            "|        ID   ID                                                             Usage      |\n",
            "|=======================================================================================|\n",
            "+---------------------------------------------------------------------------------------+\n"
          ]
        }
      ]
    },
    {
      "cell_type": "code",
      "source": [
        "import os\n",
        "import re\n",
        "import tarfile\n",
        "import requests\n",
        "import tqdm\n",
        "import numpy as np\n",
        "import glob\n",
        "from random import shuffle\n",
        "from keras.models import Sequential\n",
        "from keras.layers import Dense, Dropout, Embedding, Flatten, LSTM"
      ],
      "metadata": {
        "id": "7A7fk9IkMBRQ"
      },
      "execution_count": 44,
      "outputs": []
    },
    {
      "cell_type": "code",
      "source": [
        "BIG_URLS = {\n",
        "    'w2v': (\n",
        "        'https://www.dropbox.com/s/965dir4dje0hfi4/GoogleNews-vectors-negative300.bin.gz?dl=1',\n",
        "    ),\n",
        "    'slang': (\n",
        "        'https://www.dropbox.com/s/43c22018fbfzypd/slang.csv.gz?dl=1',\n",
        "        117633024,\n",
        "    ),\n",
        "    'tweets': (\n",
        "        'https://www.dropbox.com/s/5gpb43c494mc8p0/tweets.csv.gz?dl=1',\n",
        "        311725313,\n",
        "    ),\n",
        "    'lsa_tweets': (\n",
        "        'https://www.dropbox.com/s/rpjt0d060t4n1mr/lsa_tweets_5589798_2003588x200.tar.gz?dl=1',\n",
        "        3112841563,\n",
        "    ),\n",
        "    'imdb': (\n",
        "        'https://www.dropbox.com/s/yviic64qv84x73j/aclImdb_v1.tar.gz?dl=1',\n",
        "        3112841563,\n",
        "    ),\n",
        "}"
      ],
      "metadata": {
        "id": "oxw8UxEeMEjq"
      },
      "execution_count": 45,
      "outputs": []
    },
    {
      "cell_type": "code",
      "source": [
        "# These functions are part of the nlpia package which can be pip installed and run from there.\n",
        "def dropbox_basename(url):\n",
        "    filename = os.path.basename(url)\n",
        "    match = re.findall(r'\\?dl=[0-9]$', filename)\n",
        "    if match:\n",
        "        return filename[:-len(match[0])]\n",
        "    return filename\n",
        "\n",
        "def download_file(url, data_path='.', filename=None, size=None, chunk_size=4096, verbose=True):\n",
        "    \"\"\"Uses stream=True and a reasonable chunk size to be able to download large (GB) files over https\"\"\"\n",
        "    if filename is None:\n",
        "        filename = dropbox_basename(url)\n",
        "    file_path = os.path.join(data_path, filename)\n",
        "    if url.endswith('?dl=0'):\n",
        "        url = url[:-1] + '1'  # noninteractive download\n",
        "    if verbose:\n",
        "        tqdm_prog = tqdm\n",
        "        print('requesting URL: {}'.format(url))\n",
        "    else:\n",
        "        tqdm_prog = no_tqdm\n",
        "    r = requests.get(url, stream=True, allow_redirects=True)\n",
        "    size = r.headers.get('Content-Length', None) if size is None else size\n",
        "    print('remote size: {}'.format(size))\n",
        "\n",
        "    # stat = path_status(file_path)\n",
        "    # print('local size: {}'.format(stat.get('size', None)))\n",
        "    # if stat['type'] == 'file' and stat['size'] == size:  # TODO: check md5 or get the right size of remote file\n",
        "    #     r.close()\n",
        "    #     return file_path\n",
        "\n",
        "    print('Downloading to {}'.format(file_path))\n",
        "\n",
        "    with open(file_path, 'wb') as f:\n",
        "        for chunk in r.iter_content(chunk_size=chunk_size):\n",
        "            if chunk:  # filter out keep-alive chunks\n",
        "                f.write(chunk)\n",
        "\n",
        "    r.close()\n",
        "    return file_path\n",
        "\n",
        "def untar(fname):\n",
        "    if fname.endswith(\"tar.gz\"):\n",
        "        with tarfile.open(fname) as tf:\n",
        "            tf.extractall()\n",
        "    else:\n",
        "        print(\"Not a tar.gz file: {}\".format(fname))"
      ],
      "metadata": {
        "id": "PCGP_MMxMHLM"
      },
      "execution_count": 46,
      "outputs": []
    },
    {
      "cell_type": "code",
      "source": [
        "download_file(BIG_URLS['w2v'][0])\n",
        "untar(download_file(BIG_URLS['imdb'][0]))"
      ],
      "metadata": {
        "colab": {
          "base_uri": "https://localhost:8080/"
        },
        "id": "_EF_FmNcMZ1j",
        "outputId": "baf75624-1f3a-452c-c1c7-d940865be45d"
      },
      "execution_count": 47,
      "outputs": [
        {
          "output_type": "stream",
          "name": "stdout",
          "text": [
            "requesting URL: https://www.dropbox.com/s/965dir4dje0hfi4/GoogleNews-vectors-negative300.bin.gz?dl=1\n",
            "remote size: 1647046227\n",
            "Downloading to ./GoogleNews-vectors-negative300.bin.gz\n",
            "requesting URL: https://www.dropbox.com/s/yviic64qv84x73j/aclImdb_v1.tar.gz?dl=1\n",
            "remote size: 84125825\n",
            "Downloading to ./aclImdb_v1.tar.gz\n"
          ]
        }
      ]
    },
    {
      "cell_type": "code",
      "source": [
        "def pre_process_data(filepath):\n",
        "    \"\"\"\n",
        "    This is dependent on your training data source but we will try to generalize it as best as possible.\n",
        "    \"\"\"\n",
        "    positive_path = os.path.join(filepath, 'pos')\n",
        "    negative_path = os.path.join(filepath, 'neg')\n",
        "\n",
        "    pos_label = 1\n",
        "    neg_label = 0\n",
        "\n",
        "    dataset = []\n",
        "\n",
        "    for filename in glob.glob(os.path.join(positive_path, '*.txt')):\n",
        "        with open(filename, 'r') as f:\n",
        "            dataset.append((pos_label, f.read()))\n",
        "\n",
        "    for filename in glob.glob(os.path.join(negative_path, '*.txt')):\n",
        "        with open(filename, 'r') as f:\n",
        "            dataset.append((neg_label, f.read()))\n",
        "\n",
        "    shuffle(dataset)\n",
        "\n",
        "    return dataset\n",
        "\n",
        "def collect_expected(dataset):\n",
        "    \"\"\" Peel of the target values from the dataset \"\"\"\n",
        "    expected = []\n",
        "    for sample in dataset:\n",
        "        expected.append(sample[0])\n",
        "    return expected\n",
        "\n",
        "\n",
        "dataset = pre_process_data('./aclImdb/train')\n",
        "expected = collect_expected(dataset)\n",
        "\n",
        "\n",
        "def avg_len(data):\n",
        "    total_len = 0\n",
        "    for sample in data:\n",
        "        total_len += len(sample[1])\n",
        "    return total_len/len(data)\n",
        "\n",
        "def clean_data(data):\n",
        "    \"\"\"Shift to lower case, replace unknowns with UNK, and listify\"\"\"\n",
        "    new_data = []\n",
        "    VALID = 'abcdefghijklmnopqrstuvwxyz0123456789\"\\'?!.,:; '\n",
        "    for sample in data:\n",
        "        new_sample = []\n",
        "        for char in sample[1].lower():\n",
        "            if char in VALID:\n",
        "                new_sample.append(char)\n",
        "            else:\n",
        "                new_sample.append('UNK')\n",
        "        new_data.append(new_sample)\n",
        "    return new_data\n",
        "\n",
        "def char_pad_trunc(data, maxlen=1500):\n",
        "    \"\"\" We truncate to maxlen or add in PAD tokens \"\"\"\n",
        "    new_dataset = []\n",
        "    for sample in data:\n",
        "        if len(sample) > maxlen:\n",
        "            new_data = sample[:maxlen]\n",
        "        elif len(sample) < maxlen:\n",
        "            pads = maxlen - len(sample)\n",
        "            new_data = sample + ['PAD'] * pads\n",
        "        else:\n",
        "            new_data = sample\n",
        "        new_dataset.append(new_data)\n",
        "    return new_dataset\n",
        "\n",
        "def create_dicts(data):\n",
        "    \"\"\" Modified from Keras LSTM example\"\"\"\n",
        "    chars = set()\n",
        "    for sample in data:\n",
        "        chars.update(set(sample))\n",
        "    char_indices = dict((c, i) for i, c in enumerate(chars))\n",
        "    indices_char = dict((i, c) for i, c in enumerate(chars))\n",
        "    return char_indices, indices_char\n",
        "\n",
        "def onehot_encode(dataset, char_indices, maxlen=500):\n",
        "    \"\"\"\n",
        "    One-hot encode the tokens\n",
        "\n",
        "    Args:\n",
        "        dataset list of lists of tokens\n",
        "        char_indices\n",
        "          dictionary of {key=character,\n",
        "            value=index to use encoding vector}\n",
        "        maxlen int Length of each sample\n",
        "\n",
        "    Return:\n",
        "       np array of shape (samples, tokens, encoding length)\n",
        "    \"\"\"\n",
        "\n",
        "    X = np.zeros((len(dataset), maxlen, len(char_indices.keys())))\n",
        "    for i, sentence in enumerate(dataset):\n",
        "        for t, char in enumerate(sentence):\n",
        "            X[i, t, char_indices[char]] = 1\n",
        "    return X"
      ],
      "metadata": {
        "id": "6PDmRfr8Mapj"
      },
      "execution_count": 48,
      "outputs": []
    },
    {
      "cell_type": "code",
      "source": [
        "avg_len(dataset)"
      ],
      "metadata": {
        "colab": {
          "base_uri": "https://localhost:8080/"
        },
        "id": "mYw3bNDvMqHn",
        "outputId": "4e95717c-a354-40e2-efb7-441b5b4efd5f"
      },
      "execution_count": 49,
      "outputs": [
        {
          "output_type": "execute_result",
          "data": {
            "text/plain": [
              "1325.06964"
            ]
          },
          "metadata": {},
          "execution_count": 49
        }
      ]
    },
    {
      "cell_type": "code",
      "source": [
        "listified_data = clean_data(dataset)\n",
        "common_length_data = char_pad_trunc(listified_data, maxlen=500)\n",
        "char_indices, indices_char = create_dicts(common_length_data)\n",
        "char_indices1, indices_char1 = create_dicts(common_length_data)\n",
        "encoded_data = onehot_encode(common_length_data, char_indices, 500)"
      ],
      "metadata": {
        "id": "KIgN2xCoMzV7"
      },
      "execution_count": 50,
      "outputs": []
    },
    {
      "cell_type": "code",
      "source": [
        "split_point = int(len(encoded_data)*.1)\n",
        "split_point2 = int(len(encoded_data)*.15)\n",
        "\n",
        "x_train = np.array(encoded_data[:split_point])\n",
        "y_train = np.array(expected[:split_point])\n",
        "x_test = np.array(encoded_data[split_point:split_point2])\n",
        "y_test = np.array(expected[split_point:split_point2])"
      ],
      "metadata": {
        "id": "T4GSHgkHM0Gp"
      },
      "execution_count": 51,
      "outputs": []
    },
    {
      "cell_type": "code",
      "source": [
        "len(dataset)"
      ],
      "metadata": {
        "colab": {
          "base_uri": "https://localhost:8080/"
        },
        "id": "n-lVUstKM5av",
        "outputId": "ee6fd230-128d-46b3-8047-f0b41480743c"
      },
      "execution_count": 52,
      "outputs": [
        {
          "output_type": "execute_result",
          "data": {
            "text/plain": [
              "25000"
            ]
          },
          "metadata": {},
          "execution_count": 52
        }
      ]
    },
    {
      "cell_type": "code",
      "source": [
        "num_neurons = 40\n",
        "num_neurons_2 = 30  # Number of neurons in the second layer\n",
        "num_neurons_3 = 20  # Number of neurons in the third layer\n",
        "maxlen = 500\n",
        "model = Sequential()\n",
        "model.add(LSTM(num_neurons, return_sequences=True, input_shape=(maxlen, len(char_indices.keys()))))\n",
        "model.add(LSTM(num_neurons_2, return_sequences=True))  # Second LSTM layer stacked\n",
        "model.add(LSTM(num_neurons_3, return_sequences=True))  # Third LSTM layer stacked\n",
        "model.add(Dropout(.2))\n",
        "model.add(Flatten())\n",
        "model.add(Dense(1, activation='sigmoid'))\n",
        "model.compile('rmsprop', 'binary_crossentropy', metrics=['accuracy'])\n",
        "model.summary()"
      ],
      "metadata": {
        "colab": {
          "base_uri": "https://localhost:8080/"
        },
        "id": "OeqNe09-M7UE",
        "outputId": "7f0f7067-d872-4ace-88e1-75a8e550403a"
      },
      "execution_count": 53,
      "outputs": [
        {
          "output_type": "stream",
          "name": "stdout",
          "text": [
            "Model: \"sequential_3\"\n",
            "_________________________________________________________________\n",
            " Layer (type)                Output Shape              Param #   \n",
            "=================================================================\n",
            " lstm_11 (LSTM)              (None, 500, 40)           14080     \n",
            "                                                                 \n",
            " lstm_12 (LSTM)              (None, 500, 30)           8520      \n",
            "                                                                 \n",
            " lstm_13 (LSTM)              (None, 500, 20)           4080      \n",
            "                                                                 \n",
            " dropout_3 (Dropout)         (None, 500, 20)           0         \n",
            "                                                                 \n",
            " flatten_3 (Flatten)         (None, 10000)             0         \n",
            "                                                                 \n",
            " dense_3 (Dense)             (None, 1)                 10001     \n",
            "                                                                 \n",
            "=================================================================\n",
            "Total params: 36681 (143.29 KB)\n",
            "Trainable params: 36681 (143.29 KB)\n",
            "Non-trainable params: 0 (0.00 Byte)\n",
            "_________________________________________________________________\n"
          ]
        }
      ]
    },
    {
      "cell_type": "code",
      "source": [
        "batch_size = 16\n",
        "epochs = 10"
      ],
      "metadata": {
        "id": "J6W9Kb47M_Fq"
      },
      "execution_count": 54,
      "outputs": []
    },
    {
      "cell_type": "code",
      "source": [
        "#model.fit(x_train, y_train, batch_size=batch_size,epochs=epochs,validation_data=(x_test, y_test))\n",
        "history = model.fit(x_train, y_train, batch_size=batch_size, epochs=epochs, validation_data=(x_test, y_test))"
      ],
      "metadata": {
        "colab": {
          "base_uri": "https://localhost:8080/"
        },
        "id": "K8U4vDF9NXl1",
        "outputId": "45e9672b-166d-4682-fd3a-d8489d7cd47a"
      },
      "execution_count": 55,
      "outputs": [
        {
          "output_type": "stream",
          "name": "stdout",
          "text": [
            "Epoch 1/10\n",
            "157/157 [==============================] - 14s 55ms/step - loss: 0.6976 - accuracy: 0.4832 - val_loss: 0.7009 - val_accuracy: 0.4752\n",
            "Epoch 2/10\n",
            "157/157 [==============================] - 8s 50ms/step - loss: 0.6888 - accuracy: 0.5416 - val_loss: 0.6987 - val_accuracy: 0.4936\n",
            "Epoch 3/10\n",
            "157/157 [==============================] - 9s 60ms/step - loss: 0.6737 - accuracy: 0.5784 - val_loss: 0.7086 - val_accuracy: 0.5080\n",
            "Epoch 4/10\n",
            "157/157 [==============================] - 7s 45ms/step - loss: 0.6548 - accuracy: 0.6052 - val_loss: 0.7148 - val_accuracy: 0.5128\n",
            "Epoch 5/10\n",
            "157/157 [==============================] - 8s 50ms/step - loss: 0.6398 - accuracy: 0.6272 - val_loss: 0.7266 - val_accuracy: 0.5192\n",
            "Epoch 6/10\n",
            "157/157 [==============================] - 9s 58ms/step - loss: 0.6228 - accuracy: 0.6516 - val_loss: 0.7408 - val_accuracy: 0.5224\n",
            "Epoch 7/10\n",
            "157/157 [==============================] - 9s 57ms/step - loss: 0.6076 - accuracy: 0.6708 - val_loss: 0.7608 - val_accuracy: 0.5152\n",
            "Epoch 8/10\n",
            "157/157 [==============================] - 8s 51ms/step - loss: 0.5949 - accuracy: 0.6816 - val_loss: 0.7669 - val_accuracy: 0.5232\n",
            "Epoch 9/10\n",
            "157/157 [==============================] - 8s 54ms/step - loss: 0.5824 - accuracy: 0.7020 - val_loss: 0.8059 - val_accuracy: 0.5200\n",
            "Epoch 10/10\n",
            "157/157 [==============================] - 7s 45ms/step - loss: 0.5687 - accuracy: 0.7024 - val_loss: 0.8488 - val_accuracy: 0.5128\n"
          ]
        }
      ]
    },
    {
      "cell_type": "code",
      "source": [
        "model_structure = model.to_json()\n",
        "with open(\"task6.json\", \"w\") as json_file:\n",
        "  json_file.write(model_structure)\n",
        "model.save_weights(\"task6.h5\")"
      ],
      "metadata": {
        "id": "pWwaO0YONZkJ"
      },
      "execution_count": 56,
      "outputs": []
    },
    {
      "cell_type": "code",
      "source": [
        "from keras.models import model_from_json\n",
        "with open(\"task6.json\", \"r\") as json_file:\n",
        "  json_string = json_file.read()\n",
        "model = model_from_json(json_string)\n",
        "model.load_weights('task6.h5')"
      ],
      "metadata": {
        "id": "Y-lJDsZkNqI8"
      },
      "execution_count": 57,
      "outputs": []
    },
    {
      "cell_type": "code",
      "source": [
        "def clean_data_single(data):\n",
        "  \"\"\"Shift to lower case, replace unknowns with UNK, and listify\"\"\"\n",
        "  new_data = []\n",
        "  VALID = 'abcdefghijklmnopqrstuvwxyz0123456789\"\\'?!.,:; '\n",
        "  new_sample = []\n",
        "  for char in data.lower():\n",
        "    if char in VALID:\n",
        "      new_sample.append(char)\n",
        "    else:\n",
        "      new_sample.append('UNK')\n",
        "  return new_sample\n"
      ],
      "metadata": {
        "id": "hfTZcJtCOe0J"
      },
      "execution_count": 58,
      "outputs": []
    },
    {
      "cell_type": "code",
      "source": [
        "def char_pad_trunc2(data, maxlen=500):\n",
        "  \"\"\" We truncate to maxlen or add in PAD tokens \"\"\"\n",
        "  sample=data\n",
        "  if len(sample) > maxlen:\n",
        "    new_data = sample[:maxlen]\n",
        "  elif len(sample) < maxlen:\n",
        "    pads = maxlen - len(sample)\n",
        "    new_data = sample + ['PAD'] * pads\n",
        "  else:\n",
        "    new_data = sample\n",
        "  return new_data"
      ],
      "metadata": {
        "id": "Alzq78Y2Ogvj"
      },
      "execution_count": 59,
      "outputs": []
    },
    {
      "cell_type": "code",
      "source": [
        "def onehot_encode2(dataset, char_indices, maxlen=500):\n",
        "  \"\"\"\n",
        "  One-hot encode the tokens\n",
        "\n",
        "  Args:\n",
        "    dataset list of lists of tokens\n",
        "    char_indices\n",
        "      dictionary of {key=character,\n",
        "        value=index to use encoding vector}\n",
        "    maxlen int Length of each sample\n",
        "\n",
        "  Return:\n",
        "   np array of shape (samples, tokens, encoding length)\n",
        "  \"\"\"\n",
        "\n",
        "  X = np.zeros((1, maxlen, len(char_indices.keys())))\n",
        "  for t, char in enumerate(dataset):\n",
        "    if char=='PAD':\n",
        "      break\n",
        "    X[0, t, char_indices[char]] = 1\n",
        "  return X"
      ],
      "metadata": {
        "id": "3o7Nzt6COjm5"
      },
      "execution_count": 60,
      "outputs": []
    },
    {
      "cell_type": "code",
      "source": [
        "def create_dicts2(data):\n",
        "  \"\"\" Modified from Keras LSTM example\"\"\"\n",
        "  chars = set()\n",
        "  for sample in data:\n",
        "    chars.update(set(sample))\n",
        "  char_indices = dict((c, i) for i, c in enumerate(chars))\n",
        "  indices_char = dict((i, c) for i, c in enumerate(chars))\n",
        "  return char_indices, indices_char"
      ],
      "metadata": {
        "id": "Hz0y8DQ2OlFC"
      },
      "execution_count": 61,
      "outputs": []
    },
    {
      "cell_type": "code",
      "source": [
        "sample_1 = \"The sun is shining brightly, birds are chirping, and the flowers are blooming.\"\n"
      ],
      "metadata": {
        "id": "Rf2ZM6_nOs4s"
      },
      "execution_count": 62,
      "outputs": []
    },
    {
      "cell_type": "code",
      "source": [
        "listified_data = clean_data_single(sample_1)\n",
        "common_length_data = char_pad_trunc2(listified_data, maxlen=500)\n",
        "char_indices, indices_char = create_dicts(common_length_data)\n",
        "encoded_data = onehot_encode2(common_length_data, char_indices1, 500)\n",
        "len(encoded_data)"
      ],
      "metadata": {
        "colab": {
          "base_uri": "https://localhost:8080/"
        },
        "id": "6RbAtbnCOoFs",
        "outputId": "02758669-c0df-4da8-dc19-25a5b1bf157f"
      },
      "execution_count": 63,
      "outputs": [
        {
          "output_type": "execute_result",
          "data": {
            "text/plain": [
              "1"
            ]
          },
          "metadata": {},
          "execution_count": 63
        }
      ]
    },
    {
      "cell_type": "code",
      "source": [
        "char_indices, indices_char = create_dicts(common_length_data)"
      ],
      "metadata": {
        "id": "Q-l66ExNOxHA"
      },
      "execution_count": 64,
      "outputs": []
    },
    {
      "cell_type": "code",
      "source": [
        "print(\"Raw output of sigmoid function: {}\".format(model.predict(encoded_data)))"
      ],
      "metadata": {
        "colab": {
          "base_uri": "https://localhost:8080/"
        },
        "id": "t3NsGLokOxC2",
        "outputId": "e44d6055-d51c-45d5-f595-a874bc16d94c"
      },
      "execution_count": 65,
      "outputs": [
        {
          "output_type": "stream",
          "name": "stdout",
          "text": [
            "1/1 [==============================] - 1s 904ms/step\n",
            "Raw output of sigmoid function: [[0.5434831]]\n"
          ]
        }
      ]
    },
    {
      "cell_type": "code",
      "source": [
        "#Initialising basic values\n",
        "accuracy = history.history['accuracy']\n",
        "val_accuracy = history.history['val_accuracy']\n",
        "loss = history.history['loss']\n",
        "val_loss = history.history['val_loss']\n",
        "epochs=range(len(accuracy))"
      ],
      "metadata": {
        "id": "HGbbBzdQPUK8"
      },
      "execution_count": 66,
      "outputs": []
    },
    {
      "cell_type": "code",
      "source": [
        "#Plotting the graph for the accuracy of training and testing\n",
        "\n",
        "import matplotlib.pyplot as plt\n",
        "\n",
        "fig = plt.figure(figsize=(10,5))\n",
        "plt.plot(epochs, accuracy, 'r', label=\"Training Accuracy\")\n",
        "plt.plot(epochs, val_accuracy, 'b', label=\"Test Accuracy\")\n",
        "plt.xlabel('Epoch')\n",
        "plt.ylabel('Accuracy')\n",
        "plt.title('Accuracy')\n",
        "plt.legend(loc='lower left')\n",
        "plt.show()\n",
        "\n",
        "#Plotting the graph for the loss of training and testing\n",
        "fig2 = plt.figure(figsize=(10,5))\n",
        "plt.plot(epochs, loss, 'r', label=\"Training Loss\")\n",
        "plt.plot(epochs, val_loss, 'b', label=\"Test Loss\")\n",
        "plt.legend(loc='upper right')\n",
        "plt.xlabel('Epoch')\n",
        "plt.ylabel('Loss')\n",
        "plt.title('Training and Test loss')"
      ],
      "metadata": {
        "colab": {
          "base_uri": "https://localhost:8080/",
          "height": 975
        },
        "id": "4XLbO56UPQHT",
        "outputId": "66320ebd-36a0-4925-fac8-9f2556f16144"
      },
      "execution_count": 67,
      "outputs": [
        {
          "output_type": "display_data",
          "data": {
            "text/plain": [
              "<Figure size 1000x500 with 1 Axes>"
            ],
            "image/png": "[encoded data removed]"
          },
          "metadata": {}
        },
        {
          "output_type": "execute_result",
          "data": {
            "text/plain": [
              "Text(0.5, 1.0, 'Training and Test loss')"
            ]
          },
          "metadata": {},
          "execution_count": 67
        },
        {
          "output_type": "display_data",
          "data": {
            "text/plain": [
              "<Figure size 1000x500 with 1 Axes>"
            ],
            "image/png": "[encoded data removed]"
          },
          "metadata": {}
        }
      ]
    },
    {
      "cell_type": "code",
      "source": [
        "# Print out the accuracy and loss values\n",
        "print(\"Training Accuracy:\", history.history['accuracy'])\n",
        "print(\"Validation Accuracy:\", history.history['val_accuracy'])\n",
        "print(\"Training Loss:\", history.history['loss'])\n",
        "print(\"Validation Loss:\", history.history['val_loss'])\n"
      ],
      "metadata": {
        "colab": {
          "base_uri": "https://localhost:8080/"
        },
        "id": "1CZfIyDARArE",
        "outputId": "9fd41be9-5731-45de-c2c5-b8961bc1112c"
      },
      "execution_count": 69,
      "outputs": [
        {
          "output_type": "stream",
          "name": "stdout",
          "text": [
            "Training Accuracy: [0.4832000136375427, 0.5415999889373779, 0.5784000158309937, 0.6051999926567078, 0.6272000074386597, 0.6516000032424927, 0.670799970626831, 0.6815999746322632, 0.7020000219345093, 0.7024000287055969]\n",
            "Validation Accuracy: [0.47519999742507935, 0.4936000108718872, 0.5080000162124634, 0.5127999782562256, 0.5192000269889832, 0.5224000215530396, 0.5152000188827515, 0.5231999754905701, 0.5199999809265137, 0.5127999782562256]\n",
            "Training Loss: [0.697587251663208, 0.6887640357017517, 0.6737056374549866, 0.6547964215278625, 0.6397744417190552, 0.6227813959121704, 0.6075643301010132, 0.5948531031608582, 0.5823776125907898, 0.5687242150306702]\n",
            "Validation Loss: [0.7009432911872864, 0.6987012624740601, 0.7085766792297363, 0.7148441672325134, 0.7266231775283813, 0.740763247013092, 0.7607766389846802, 0.7669086456298828, 0.8059374094009399, 0.8487679958343506]\n"
          ]
        }
      ]
    },
    {
      "cell_type": "markdown",
      "source": [
        "# **Observations**:\n",
        "## The model achieved an accuracy of around 70% on the training data and around 52% on the validation data after 10 epochs. The training loss decreased from 0.6976 to 0.5687, while the validation loss increased from 0.7009 to 0.8488. this is indicating a slightly positive sentiment.Overall, the model shows moderate performance but may benefit from further tuning.\n",
        "\n",
        "\n",
        "\n"
      ],
      "metadata": {
        "id": "Maedf4QWRT5V"
      }
    }
  ]
}