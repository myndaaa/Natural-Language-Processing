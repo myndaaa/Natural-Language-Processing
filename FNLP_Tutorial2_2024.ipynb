{
  "nbformat": 4,
  "nbformat_minor": 0,
  "metadata": {
    "colab": {
      "provenance": [],
      "include_colab_link": true
    },
    "kernelspec": {
      "name": "python3",
      "display_name": "Python 3"
    },
    "widgets": {
      "application/vnd.jupyter.widget-state+json": {
        "a3a1ca02161741d781d60f44b63766e1": {
          "model_module": "@jupyter-widgets/controls",
          "model_name": "HBoxModel",
          "model_module_version": "1.5.0",
          "state": {
            "_dom_classes": [],
            "_model_module": "@jupyter-widgets/controls",
            "_model_module_version": "1.5.0",
            "_model_name": "HBoxModel",
            "_view_count": null,
            "_view_module": "@jupyter-widgets/controls",
            "_view_module_version": "1.5.0",
            "_view_name": "HBoxView",
            "box_style": "",
            "children": [
              "IPY_MODEL_5d7bd8f50c1d4e2f9b5e52c792763363",
              "IPY_MODEL_fd6cc9ca01184e98901ec5f490bcecab",
              "IPY_MODEL_699ba035b2a34b5dbb1bc0a91ff82fd6"
            ],
            "layout": "IPY_MODEL_1e2b3e0c60a44c3d83d23717f37d0f49"
          }
        },
        "5d7bd8f50c1d4e2f9b5e52c792763363": {
          "model_module": "@jupyter-widgets/controls",
          "model_name": "HTMLModel",
          "model_module_version": "1.5.0",
          "state": {
            "_dom_classes": [],
            "_model_module": "@jupyter-widgets/controls",
            "_model_module_version": "1.5.0",
            "_model_name": "HTMLModel",
            "_view_count": null,
            "_view_module": "@jupyter-widgets/controls",
            "_view_module_version": "1.5.0",
            "_view_name": "HTMLView",
            "description": "",
            "description_tooltip": null,
            "layout": "IPY_MODEL_2ae979cd7e1b47e9b41abd54d8c90e18",
            "placeholder": "​",
            "style": "IPY_MODEL_1c7ec0e6276d407d8dd533b0b593b2e8",
            "value": "tokenizer_config.json: 100%"
          }
        },
        "fd6cc9ca01184e98901ec5f490bcecab": {
          "model_module": "@jupyter-widgets/controls",
          "model_name": "FloatProgressModel",
          "model_module_version": "1.5.0",
          "state": {
            "_dom_classes": [],
            "_model_module": "@jupyter-widgets/controls",
            "_model_module_version": "1.5.0",
            "_model_name": "FloatProgressModel",
            "_view_count": null,
            "_view_module": "@jupyter-widgets/controls",
            "_view_module_version": "1.5.0",
            "_view_name": "ProgressView",
            "bar_style": "success",
            "description": "",
            "description_tooltip": null,
            "layout": "IPY_MODEL_52f5b28f393641028b529a36a69ef980",
            "max": 48,
            "min": 0,
            "orientation": "horizontal",
            "style": "IPY_MODEL_cace0a907d02404bbff0f17d79628ca5",
            "value": 48
          }
        },
        "699ba035b2a34b5dbb1bc0a91ff82fd6": {
          "model_module": "@jupyter-widgets/controls",
          "model_name": "HTMLModel",
          "model_module_version": "1.5.0",
          "state": {
            "_dom_classes": [],
            "_model_module": "@jupyter-widgets/controls",
            "_model_module_version": "1.5.0",
            "_model_name": "HTMLModel",
            "_view_count": null,
            "_view_module": "@jupyter-widgets/controls",
            "_view_module_version": "1.5.0",
            "_view_name": "HTMLView",
            "description": "",
            "description_tooltip": null,
            "layout": "IPY_MODEL_469882103b9446f7ae8ad1a7e6338b84",
            "placeholder": "​",
            "style": "IPY_MODEL_902da9bd9635467eab64b213cbda4af0",
            "value": " 48.0/48.0 [00:00&lt;00:00, 552B/s]"
          }
        },
        "1e2b3e0c60a44c3d83d23717f37d0f49": {
          "model_module": "@jupyter-widgets/base",
          "model_name": "LayoutModel",
          "model_module_version": "1.2.0",
          "state": {
            "_model_module": "@jupyter-widgets/base",
            "_model_module_version": "1.2.0",
            "_model_name": "LayoutModel",
            "_view_count": null,
            "_view_module": "@jupyter-widgets/base",
            "_view_module_version": "1.2.0",
            "_view_name": "LayoutView",
            "align_content": null,
            "align_items": null,
            "align_self": null,
            "border": null,
            "bottom": null,
            "display": null,
            "flex": null,
            "flex_flow": null,
            "grid_area": null,
            "grid_auto_columns": null,
            "grid_auto_flow": null,
            "grid_auto_rows": null,
            "grid_column": null,
            "grid_gap": null,
            "grid_row": null,
            "grid_template_areas": null,
            "grid_template_columns": null,
            "grid_template_rows": null,
            "height": null,
            "justify_content": null,
            "justify_items": null,
            "left": null,
            "margin": null,
            "max_height": null,
            "max_width": null,
            "min_height": null,
            "min_width": null,
            "object_fit": null,
            "object_position": null,
            "order": null,
            "overflow": null,
            "overflow_x": null,
            "overflow_y": null,
            "padding": null,
            "right": null,
            "top": null,
            "visibility": null,
            "width": null
          }
        },
        "2ae979cd7e1b47e9b41abd54d8c90e18": {
          "model_module": "@jupyter-widgets/base",
          "model_name": "LayoutModel",
          "model_module_version": "1.2.0",
          "state": {
            "_model_module": "@jupyter-widgets/base",
            "_model_module_version": "1.2.0",
            "_model_name": "LayoutModel",
            "_view_count": null,
            "_view_module": "@jupyter-widgets/base",
            "_view_module_version": "1.2.0",
            "_view_name": "LayoutView",
            "align_content": null,
            "align_items": null,
            "align_self": null,
            "border": null,
            "bottom": null,
            "display": null,
            "flex": null,
            "flex_flow": null,
            "grid_area": null,
            "grid_auto_columns": null,
            "grid_auto_flow": null,
            "grid_auto_rows": null,
            "grid_column": null,
            "grid_gap": null,
            "grid_row": null,
            "grid_template_areas": null,
            "grid_template_columns": null,
            "grid_template_rows": null,
            "height": null,
            "justify_content": null,
            "justify_items": null,
            "left": null,
            "margin": null,
            "max_height": null,
            "max_width": null,
            "min_height": null,
            "min_width": null,
            "object_fit": null,
            "object_position": null,
            "order": null,
            "overflow": null,
            "overflow_x": null,
            "overflow_y": null,
            "padding": null,
            "right": null,
            "top": null,
            "visibility": null,
            "width": null
          }
        },
        "1c7ec0e6276d407d8dd533b0b593b2e8": {
          "model_module": "@jupyter-widgets/controls",
          "model_name": "DescriptionStyleModel",
          "model_module_version": "1.5.0",
          "state": {
            "_model_module": "@jupyter-widgets/controls",
            "_model_module_version": "1.5.0",
            "_model_name": "DescriptionStyleModel",
            "_view_count": null,
            "_view_module": "@jupyter-widgets/base",
            "_view_module_version": "1.2.0",
            "_view_name": "StyleView",
            "description_width": ""
          }
        },
        "52f5b28f393641028b529a36a69ef980": {
          "model_module": "@jupyter-widgets/base",
          "model_name": "LayoutModel",
          "model_module_version": "1.2.0",
          "state": {
            "_model_module": "@jupyter-widgets/base",
            "_model_module_version": "1.2.0",
            "_model_name": "LayoutModel",
            "_view_count": null,
            "_view_module": "@jupyter-widgets/base",
            "_view_module_version": "1.2.0",
            "_view_name": "LayoutView",
            "align_content": null,
            "align_items": null,
            "align_self": null,
            "border": null,
            "bottom": null,
            "display": null,
            "flex": null,
            "flex_flow": null,
            "grid_area": null,
            "grid_auto_columns": null,
            "grid_auto_flow": null,
            "grid_auto_rows": null,
            "grid_column": null,
            "grid_gap": null,
            "grid_row": null,
            "grid_template_areas": null,
            "grid_template_columns": null,
            "grid_template_rows": null,
            "height": null,
            "justify_content": null,
            "justify_items": null,
            "left": null,
            "margin": null,
            "max_height": null,
            "max_width": null,
            "min_height": null,
            "min_width": null,
            "object_fit": null,
            "object_position": null,
            "order": null,
            "overflow": null,
            "overflow_x": null,
            "overflow_y": null,
            "padding": null,
            "right": null,
            "top": null,
            "visibility": null,
            "width": null
          }
        },
        "cace0a907d02404bbff0f17d79628ca5": {
          "model_module": "@jupyter-widgets/controls",
          "model_name": "ProgressStyleModel",
          "model_module_version": "1.5.0",
          "state": {
            "_model_module": "@jupyter-widgets/controls",
            "_model_module_version": "1.5.0",
            "_model_name": "ProgressStyleModel",
            "_view_count": null,
            "_view_module": "@jupyter-widgets/base",
            "_view_module_version": "1.2.0",
            "_view_name": "StyleView",
            "bar_color": null,
            "description_width": ""
          }
        },
        "469882103b9446f7ae8ad1a7e6338b84": {
          "model_module": "@jupyter-widgets/base",
          "model_name": "LayoutModel",
          "model_module_version": "1.2.0",
          "state": {
            "_model_module": "@jupyter-widgets/base",
            "_model_module_version": "1.2.0",
            "_model_name": "LayoutModel",
            "_view_count": null,
            "_view_module": "@jupyter-widgets/base",
            "_view_module_version": "1.2.0",
            "_view_name": "LayoutView",
            "align_content": null,
            "align_items": null,
            "align_self": null,
            "border": null,
            "bottom": null,
            "display": null,
            "flex": null,
            "flex_flow": null,
            "grid_area": null,
            "grid_auto_columns": null,
            "grid_auto_flow": null,
            "grid_auto_rows": null,
            "grid_column": null,
            "grid_gap": null,
            "grid_row": null,
            "grid_template_areas": null,
            "grid_template_columns": null,
            "grid_template_rows": null,
            "height": null,
            "justify_content": null,
            "justify_items": null,
            "left": null,
            "margin": null,
            "max_height": null,
            "max_width": null,
            "min_height": null,
            "min_width": null,
            "object_fit": null,
            "object_position": null,
            "order": null,
            "overflow": null,
            "overflow_x": null,
            "overflow_y": null,
            "padding": null,
            "right": null,
            "top": null,
            "visibility": null,
            "width": null
          }
        },
        "902da9bd9635467eab64b213cbda4af0": {
          "model_module": "@jupyter-widgets/controls",
          "model_name": "DescriptionStyleModel",
          "model_module_version": "1.5.0",
          "state": {
            "_model_module": "@jupyter-widgets/controls",
            "_model_module_version": "1.5.0",
            "_model_name": "DescriptionStyleModel",
            "_view_count": null,
            "_view_module": "@jupyter-widgets/base",
            "_view_module_version": "1.2.0",
            "_view_name": "StyleView",
            "description_width": ""
          }
        },
        "82fa81b8109f4cf2b68355204016a2ca": {
          "model_module": "@jupyter-widgets/controls",
          "model_name": "HBoxModel",
          "model_module_version": "1.5.0",
          "state": {
            "_dom_classes": [],
            "_model_module": "@jupyter-widgets/controls",
            "_model_module_version": "1.5.0",
            "_model_name": "HBoxModel",
            "_view_count": null,
            "_view_module": "@jupyter-widgets/controls",
            "_view_module_version": "1.5.0",
            "_view_name": "HBoxView",
            "box_style": "",
            "children": [
              "IPY_MODEL_f0b6c87555734b97a105e0fc5d7a8ef5",
              "IPY_MODEL_31c37b1d0636436aaaf21c8f1c922fa3",
              "IPY_MODEL_fbfff6ad1a6d4eaf91fc94121a36757e"
            ],
            "layout": "IPY_MODEL_63538c00255b4881ae1971d42c283db7"
          }
        },
        "f0b6c87555734b97a105e0fc5d7a8ef5": {
          "model_module": "@jupyter-widgets/controls",
          "model_name": "HTMLModel",
          "model_module_version": "1.5.0",
          "state": {
            "_dom_classes": [],
            "_model_module": "@jupyter-widgets/controls",
            "_model_module_version": "1.5.0",
            "_model_name": "HTMLModel",
            "_view_count": null,
            "_view_module": "@jupyter-widgets/controls",
            "_view_module_version": "1.5.0",
            "_view_name": "HTMLView",
            "description": "",
            "description_tooltip": null,
            "layout": "IPY_MODEL_6d04804fc8864b7f8c19c3ea0b27171c",
            "placeholder": "​",
            "style": "IPY_MODEL_979fe427b5a4412cb61cb8e9cd3ee3f8",
            "value": "vocab.txt: 100%"
          }
        },
        "31c37b1d0636436aaaf21c8f1c922fa3": {
          "model_module": "@jupyter-widgets/controls",
          "model_name": "FloatProgressModel",
          "model_module_version": "1.5.0",
          "state": {
            "_dom_classes": [],
            "_model_module": "@jupyter-widgets/controls",
            "_model_module_version": "1.5.0",
            "_model_name": "FloatProgressModel",
            "_view_count": null,
            "_view_module": "@jupyter-widgets/controls",
            "_view_module_version": "1.5.0",
            "_view_name": "ProgressView",
            "bar_style": "success",
            "description": "",
            "description_tooltip": null,
            "layout": "IPY_MODEL_a5e993d9351a4db8b1ee547d2e619740",
            "max": 231508,
            "min": 0,
            "orientation": "horizontal",
            "style": "IPY_MODEL_8a90dec1125449a6b5f8d1bd0f18a944",
            "value": 231508
          }
        },
        "fbfff6ad1a6d4eaf91fc94121a36757e": {
          "model_module": "@jupyter-widgets/controls",
          "model_name": "HTMLModel",
          "model_module_version": "1.5.0",
          "state": {
            "_dom_classes": [],
            "_model_module": "@jupyter-widgets/controls",
            "_model_module_version": "1.5.0",
            "_model_name": "HTMLModel",
            "_view_count": null,
            "_view_module": "@jupyter-widgets/controls",
            "_view_module_version": "1.5.0",
            "_view_name": "HTMLView",
            "description": "",
            "description_tooltip": null,
            "layout": "IPY_MODEL_5871296fabb7430c99620c22f283b64d",
            "placeholder": "​",
            "style": "IPY_MODEL_479ecf493c6c43b5a2a5961807d9af6b",
            "value": " 232k/232k [00:00&lt;00:00, 3.93MB/s]"
          }
        },
        "63538c00255b4881ae1971d42c283db7": {
          "model_module": "@jupyter-widgets/base",
          "model_name": "LayoutModel",
          "model_module_version": "1.2.0",
          "state": {
            "_model_module": "@jupyter-widgets/base",
            "_model_module_version": "1.2.0",
            "_model_name": "LayoutModel",
            "_view_count": null,
            "_view_module": "@jupyter-widgets/base",
            "_view_module_version": "1.2.0",
            "_view_name": "LayoutView",
            "align_content": null,
            "align_items": null,
            "align_self": null,
            "border": null,
            "bottom": null,
            "display": null,
            "flex": null,
            "flex_flow": null,
            "grid_area": null,
            "grid_auto_columns": null,
            "grid_auto_flow": null,
            "grid_auto_rows": null,
            "grid_column": null,
            "grid_gap": null,
            "grid_row": null,
            "grid_template_areas": null,
            "grid_template_columns": null,
            "grid_template_rows": null,
            "height": null,
            "justify_content": null,
            "justify_items": null,
            "left": null,
            "margin": null,
            "max_height": null,
            "max_width": null,
            "min_height": null,
            "min_width": null,
            "object_fit": null,
            "object_position": null,
            "order": null,
            "overflow": null,
            "overflow_x": null,
            "overflow_y": null,
            "padding": null,
            "right": null,
            "top": null,
            "visibility": null,
            "width": null
          }
        },
        "6d04804fc8864b7f8c19c3ea0b27171c": {
          "model_module": "@jupyter-widgets/base",
          "model_name": "LayoutModel",
          "model_module_version": "1.2.0",
          "state": {
            "_model_module": "@jupyter-widgets/base",
            "_model_module_version": "1.2.0",
            "_model_name": "LayoutModel",
            "_view_count": null,
            "_view_module": "@jupyter-widgets/base",
            "_view_module_version": "1.2.0",
            "_view_name": "LayoutView",
            "align_content": null,
            "align_items": null,
            "align_self": null,
            "border": null,
            "bottom": null,
            "display": null,
            "flex": null,
            "flex_flow": null,
            "grid_area": null,
            "grid_auto_columns": null,
            "grid_auto_flow": null,
            "grid_auto_rows": null,
            "grid_column": null,
            "grid_gap": null,
            "grid_row": null,
            "grid_template_areas": null,
            "grid_template_columns": null,
            "grid_template_rows": null,
            "height": null,
            "justify_content": null,
            "justify_items": null,
            "left": null,
            "margin": null,
            "max_height": null,
            "max_width": null,
            "min_height": null,
            "min_width": null,
            "object_fit": null,
            "object_position": null,
            "order": null,
            "overflow": null,
            "overflow_x": null,
            "overflow_y": null,
            "padding": null,
            "right": null,
            "top": null,
            "visibility": null,
            "width": null
          }
        },
        "979fe427b5a4412cb61cb8e9cd3ee3f8": {
          "model_module": "@jupyter-widgets/controls",
          "model_name": "DescriptionStyleModel",
          "model_module_version": "1.5.0",
          "state": {
            "_model_module": "@jupyter-widgets/controls",
            "_model_module_version": "1.5.0",
            "_model_name": "DescriptionStyleModel",
            "_view_count": null,
            "_view_module": "@jupyter-widgets/base",
            "_view_module_version": "1.2.0",
            "_view_name": "StyleView",
            "description_width": ""
          }
        },
        "a5e993d9351a4db8b1ee547d2e619740": {
          "model_module": "@jupyter-widgets/base",
          "model_name": "LayoutModel",
          "model_module_version": "1.2.0",
          "state": {
            "_model_module": "@jupyter-widgets/base",
            "_model_module_version": "1.2.0",
            "_model_name": "LayoutModel",
            "_view_count": null,
            "_view_module": "@jupyter-widgets/base",
            "_view_module_version": "1.2.0",
            "_view_name": "LayoutView",
            "align_content": null,
            "align_items": null,
            "align_self": null,
            "border": null,
            "bottom": null,
            "display": null,
            "flex": null,
            "flex_flow": null,
            "grid_area": null,
            "grid_auto_columns": null,
            "grid_auto_flow": null,
            "grid_auto_rows": null,
            "grid_column": null,
            "grid_gap": null,
            "grid_row": null,
            "grid_template_areas": null,
            "grid_template_columns": null,
            "grid_template_rows": null,
            "height": null,
            "justify_content": null,
            "justify_items": null,
            "left": null,
            "margin": null,
            "max_height": null,
            "max_width": null,
            "min_height": null,
            "min_width": null,
            "object_fit": null,
            "object_position": null,
            "order": null,
            "overflow": null,
            "overflow_x": null,
            "overflow_y": null,
            "padding": null,
            "right": null,
            "top": null,
            "visibility": null,
            "width": null
          }
        },
        "8a90dec1125449a6b5f8d1bd0f18a944": {
          "model_module": "@jupyter-widgets/controls",
          "model_name": "ProgressStyleModel",
          "model_module_version": "1.5.0",
          "state": {
            "_model_module": "@jupyter-widgets/controls",
            "_model_module_version": "1.5.0",
            "_model_name": "ProgressStyleModel",
            "_view_count": null,
            "_view_module": "@jupyter-widgets/base",
            "_view_module_version": "1.2.0",
            "_view_name": "StyleView",
            "bar_color": null,
            "description_width": ""
          }
        },
        "5871296fabb7430c99620c22f283b64d": {
          "model_module": "@jupyter-widgets/base",
          "model_name": "LayoutModel",
          "model_module_version": "1.2.0",
          "state": {
            "_model_module": "@jupyter-widgets/base",
            "_model_module_version": "1.2.0",
            "_model_name": "LayoutModel",
            "_view_count": null,
            "_view_module": "@jupyter-widgets/base",
            "_view_module_version": "1.2.0",
            "_view_name": "LayoutView",
            "align_content": null,
            "align_items": null,
            "align_self": null,
            "border": null,
            "bottom": null,
            "display": null,
            "flex": null,
            "flex_flow": null,
            "grid_area": null,
            "grid_auto_columns": null,
            "grid_auto_flow": null,
            "grid_auto_rows": null,
            "grid_column": null,
            "grid_gap": null,
            "grid_row": null,
            "grid_template_areas": null,
            "grid_template_columns": null,
            "grid_template_rows": null,
            "height": null,
            "justify_content": null,
            "justify_items": null,
            "left": null,
            "margin": null,
            "max_height": null,
            "max_width": null,
            "min_height": null,
            "min_width": null,
            "object_fit": null,
            "object_position": null,
            "order": null,
            "overflow": null,
            "overflow_x": null,
            "overflow_y": null,
            "padding": null,
            "right": null,
            "top": null,
            "visibility": null,
            "width": null
          }
        },
        "479ecf493c6c43b5a2a5961807d9af6b": {
          "model_module": "@jupyter-widgets/controls",
          "model_name": "DescriptionStyleModel",
          "model_module_version": "1.5.0",
          "state": {
            "_model_module": "@jupyter-widgets/controls",
            "_model_module_version": "1.5.0",
            "_model_name": "DescriptionStyleModel",
            "_view_count": null,
            "_view_module": "@jupyter-widgets/base",
            "_view_module_version": "1.2.0",
            "_view_name": "StyleView",
            "description_width": ""
          }
        },
        "4dfdfb0053a94ab1a9d5e47373976d63": {
          "model_module": "@jupyter-widgets/controls",
          "model_name": "HBoxModel",
          "model_module_version": "1.5.0",
          "state": {
            "_dom_classes": [],
            "_model_module": "@jupyter-widgets/controls",
            "_model_module_version": "1.5.0",
            "_model_name": "HBoxModel",
            "_view_count": null,
            "_view_module": "@jupyter-widgets/controls",
            "_view_module_version": "1.5.0",
            "_view_name": "HBoxView",
            "box_style": "",
            "children": [
              "IPY_MODEL_1e645fbc797c474b84f8d3281d0d5f18",
              "IPY_MODEL_4dbbf044a34f4de1a2a2a24248ee2602",
              "IPY_MODEL_1513dd2ea8aa46998966c3ab72a33d99"
            ],
            "layout": "IPY_MODEL_68c3add4cfba4f6a86c343127be6f3b3"
          }
        },
        "1e645fbc797c474b84f8d3281d0d5f18": {
          "model_module": "@jupyter-widgets/controls",
          "model_name": "HTMLModel",
          "model_module_version": "1.5.0",
          "state": {
            "_dom_classes": [],
            "_model_module": "@jupyter-widgets/controls",
            "_model_module_version": "1.5.0",
            "_model_name": "HTMLModel",
            "_view_count": null,
            "_view_module": "@jupyter-widgets/controls",
            "_view_module_version": "1.5.0",
            "_view_name": "HTMLView",
            "description": "",
            "description_tooltip": null,
            "layout": "IPY_MODEL_51be0d06bb0c4aaa8a7d45bc0819dd7d",
            "placeholder": "​",
            "style": "IPY_MODEL_f17ec8f594d941168bc4d6fd78e1d0d5",
            "value": "tokenizer.json: 100%"
          }
        },
        "4dbbf044a34f4de1a2a2a24248ee2602": {
          "model_module": "@jupyter-widgets/controls",
          "model_name": "FloatProgressModel",
          "model_module_version": "1.5.0",
          "state": {
            "_dom_classes": [],
            "_model_module": "@jupyter-widgets/controls",
            "_model_module_version": "1.5.0",
            "_model_name": "FloatProgressModel",
            "_view_count": null,
            "_view_module": "@jupyter-widgets/controls",
            "_view_module_version": "1.5.0",
            "_view_name": "ProgressView",
            "bar_style": "success",
            "description": "",
            "description_tooltip": null,
            "layout": "IPY_MODEL_d7f9a17049c241c395ed5c8a1f84674e",
            "max": 466062,
            "min": 0,
            "orientation": "horizontal",
            "style": "IPY_MODEL_0b62644142ee49a8b410bdfe8422aa3f",
            "value": 466062
          }
        },
        "1513dd2ea8aa46998966c3ab72a33d99": {
          "model_module": "@jupyter-widgets/controls",
          "model_name": "HTMLModel",
          "model_module_version": "1.5.0",
          "state": {
            "_dom_classes": [],
            "_model_module": "@jupyter-widgets/controls",
            "_model_module_version": "1.5.0",
            "_model_name": "HTMLModel",
            "_view_count": null,
            "_view_module": "@jupyter-widgets/controls",
            "_view_module_version": "1.5.0",
            "_view_name": "HTMLView",
            "description": "",
            "description_tooltip": null,
            "layout": "IPY_MODEL_011a2901ef324c7f85b576e59c3e05ec",
            "placeholder": "​",
            "style": "IPY_MODEL_c540ae75bdd8424dbcfe410bbb5fa5ff",
            "value": " 466k/466k [00:00&lt;00:00, 9.71MB/s]"
          }
        },
        "68c3add4cfba4f6a86c343127be6f3b3": {
          "model_module": "@jupyter-widgets/base",
          "model_name": "LayoutModel",
          "model_module_version": "1.2.0",
          "state": {
            "_model_module": "@jupyter-widgets/base",
            "_model_module_version": "1.2.0",
            "_model_name": "LayoutModel",
            "_view_count": null,
            "_view_module": "@jupyter-widgets/base",
            "_view_module_version": "1.2.0",
            "_view_name": "LayoutView",
            "align_content": null,
            "align_items": null,
            "align_self": null,
            "border": null,
            "bottom": null,
            "display": null,
            "flex": null,
            "flex_flow": null,
            "grid_area": null,
            "grid_auto_columns": null,
            "grid_auto_flow": null,
            "grid_auto_rows": null,
            "grid_column": null,
            "grid_gap": null,
            "grid_row": null,
            "grid_template_areas": null,
            "grid_template_columns": null,
            "grid_template_rows": null,
            "height": null,
            "justify_content": null,
            "justify_items": null,
            "left": null,
            "margin": null,
            "max_height": null,
            "max_width": null,
            "min_height": null,
            "min_width": null,
            "object_fit": null,
            "object_position": null,
            "order": null,
            "overflow": null,
            "overflow_x": null,
            "overflow_y": null,
            "padding": null,
            "right": null,
            "top": null,
            "visibility": null,
            "width": null
          }
        },
        "51be0d06bb0c4aaa8a7d45bc0819dd7d": {
          "model_module": "@jupyter-widgets/base",
          "model_name": "LayoutModel",
          "model_module_version": "1.2.0",
          "state": {
            "_model_module": "@jupyter-widgets/base",
            "_model_module_version": "1.2.0",
            "_model_name": "LayoutModel",
            "_view_count": null,
            "_view_module": "@jupyter-widgets/base",
            "_view_module_version": "1.2.0",
            "_view_name": "LayoutView",
            "align_content": null,
            "align_items": null,
            "align_self": null,
            "border": null,
            "bottom": null,
            "display": null,
            "flex": null,
            "flex_flow": null,
            "grid_area": null,
            "grid_auto_columns": null,
            "grid_auto_flow": null,
            "grid_auto_rows": null,
            "grid_column": null,
            "grid_gap": null,
            "grid_row": null,
            "grid_template_areas": null,
            "grid_template_columns": null,
            "grid_template_rows": null,
            "height": null,
            "justify_content": null,
            "justify_items": null,
            "left": null,
            "margin": null,
            "max_height": null,
            "max_width": null,
            "min_height": null,
            "min_width": null,
            "object_fit": null,
            "object_position": null,
            "order": null,
            "overflow": null,
            "overflow_x": null,
            "overflow_y": null,
            "padding": null,
            "right": null,
            "top": null,
            "visibility": null,
            "width": null
          }
        },
        "f17ec8f594d941168bc4d6fd78e1d0d5": {
          "model_module": "@jupyter-widgets/controls",
          "model_name": "DescriptionStyleModel",
          "model_module_version": "1.5.0",
          "state": {
            "_model_module": "@jupyter-widgets/controls",
            "_model_module_version": "1.5.0",
            "_model_name": "DescriptionStyleModel",
            "_view_count": null,
            "_view_module": "@jupyter-widgets/base",
            "_view_module_version": "1.2.0",
            "_view_name": "StyleView",
            "description_width": ""
          }
        },
        "d7f9a17049c241c395ed5c8a1f84674e": {
          "model_module": "@jupyter-widgets/base",
          "model_name": "LayoutModel",
          "model_module_version": "1.2.0",
          "state": {
            "_model_module": "@jupyter-widgets/base",
            "_model_module_version": "1.2.0",
            "_model_name": "LayoutModel",
            "_view_count": null,
            "_view_module": "@jupyter-widgets/base",
            "_view_module_version": "1.2.0",
            "_view_name": "LayoutView",
            "align_content": null,
            "align_items": null,
            "align_self": null,
            "border": null,
            "bottom": null,
            "display": null,
            "flex": null,
            "flex_flow": null,
            "grid_area": null,
            "grid_auto_columns": null,
            "grid_auto_flow": null,
            "grid_auto_rows": null,
            "grid_column": null,
            "grid_gap": null,
            "grid_row": null,
            "grid_template_areas": null,
            "grid_template_columns": null,
            "grid_template_rows": null,
            "height": null,
            "justify_content": null,
            "justify_items": null,
            "left": null,
            "margin": null,
            "max_height": null,
            "max_width": null,
            "min_height": null,
            "min_width": null,
            "object_fit": null,
            "object_position": null,
            "order": null,
            "overflow": null,
            "overflow_x": null,
            "overflow_y": null,
            "padding": null,
            "right": null,
            "top": null,
            "visibility": null,
            "width": null
          }
        },
        "0b62644142ee49a8b410bdfe8422aa3f": {
          "model_module": "@jupyter-widgets/controls",
          "model_name": "ProgressStyleModel",
          "model_module_version": "1.5.0",
          "state": {
            "_model_module": "@jupyter-widgets/controls",
            "_model_module_version": "1.5.0",
            "_model_name": "ProgressStyleModel",
            "_view_count": null,
            "_view_module": "@jupyter-widgets/base",
            "_view_module_version": "1.2.0",
            "_view_name": "StyleView",
            "bar_color": null,
            "description_width": ""
          }
        },
        "011a2901ef324c7f85b576e59c3e05ec": {
          "model_module": "@jupyter-widgets/base",
          "model_name": "LayoutModel",
          "model_module_version": "1.2.0",
          "state": {
            "_model_module": "@jupyter-widgets/base",
            "_model_module_version": "1.2.0",
            "_model_name": "LayoutModel",
            "_view_count": null,
            "_view_module": "@jupyter-widgets/base",
            "_view_module_version": "1.2.0",
            "_view_name": "LayoutView",
            "align_content": null,
            "align_items": null,
            "align_self": null,
            "border": null,
            "bottom": null,
            "display": null,
            "flex": null,
            "flex_flow": null,
            "grid_area": null,
            "grid_auto_columns": null,
            "grid_auto_flow": null,
            "grid_auto_rows": null,
            "grid_column": null,
            "grid_gap": null,
            "grid_row": null,
            "grid_template_areas": null,
            "grid_template_columns": null,
            "grid_template_rows": null,
            "height": null,
            "justify_content": null,
            "justify_items": null,
            "left": null,
            "margin": null,
            "max_height": null,
            "max_width": null,
            "min_height": null,
            "min_width": null,
            "object_fit": null,
            "object_position": null,
            "order": null,
            "overflow": null,
            "overflow_x": null,
            "overflow_y": null,
            "padding": null,
            "right": null,
            "top": null,
            "visibility": null,
            "width": null
          }
        },
        "c540ae75bdd8424dbcfe410bbb5fa5ff": {
          "model_module": "@jupyter-widgets/controls",
          "model_name": "DescriptionStyleModel",
          "model_module_version": "1.5.0",
          "state": {
            "_model_module": "@jupyter-widgets/controls",
            "_model_module_version": "1.5.0",
            "_model_name": "DescriptionStyleModel",
            "_view_count": null,
            "_view_module": "@jupyter-widgets/base",
            "_view_module_version": "1.2.0",
            "_view_name": "StyleView",
            "description_width": ""
          }
        },
        "342025893f624344a522f70d1128e2b1": {
          "model_module": "@jupyter-widgets/controls",
          "model_name": "HBoxModel",
          "model_module_version": "1.5.0",
          "state": {
            "_dom_classes": [],
            "_model_module": "@jupyter-widgets/controls",
            "_model_module_version": "1.5.0",
            "_model_name": "HBoxModel",
            "_view_count": null,
            "_view_module": "@jupyter-widgets/controls",
            "_view_module_version": "1.5.0",
            "_view_name": "HBoxView",
            "box_style": "",
            "children": [
              "IPY_MODEL_5bfdb2992ca94f88a03d0d341acb27a3",
              "IPY_MODEL_09d6f5597c4f47e4b0b705ab6939281e",
              "IPY_MODEL_addf6ed1c5b645b0bb7e4fb9ddcf3d8b"
            ],
            "layout": "IPY_MODEL_b918e5d699224c8e8ffce5712e2500cd"
          }
        },
        "5bfdb2992ca94f88a03d0d341acb27a3": {
          "model_module": "@jupyter-widgets/controls",
          "model_name": "HTMLModel",
          "model_module_version": "1.5.0",
          "state": {
            "_dom_classes": [],
            "_model_module": "@jupyter-widgets/controls",
            "_model_module_version": "1.5.0",
            "_model_name": "HTMLModel",
            "_view_count": null,
            "_view_module": "@jupyter-widgets/controls",
            "_view_module_version": "1.5.0",
            "_view_name": "HTMLView",
            "description": "",
            "description_tooltip": null,
            "layout": "IPY_MODEL_39431362abea4372b7bd17a03995610f",
            "placeholder": "​",
            "style": "IPY_MODEL_e7040b464d0b492093416edc7f7e7a32",
            "value": "config.json: 100%"
          }
        },
        "09d6f5597c4f47e4b0b705ab6939281e": {
          "model_module": "@jupyter-widgets/controls",
          "model_name": "FloatProgressModel",
          "model_module_version": "1.5.0",
          "state": {
            "_dom_classes": [],
            "_model_module": "@jupyter-widgets/controls",
            "_model_module_version": "1.5.0",
            "_model_name": "FloatProgressModel",
            "_view_count": null,
            "_view_module": "@jupyter-widgets/controls",
            "_view_module_version": "1.5.0",
            "_view_name": "ProgressView",
            "bar_style": "success",
            "description": "",
            "description_tooltip": null,
            "layout": "IPY_MODEL_32e00856a08146dca0ce900e3a0fc8ee",
            "max": 570,
            "min": 0,
            "orientation": "horizontal",
            "style": "IPY_MODEL_a75f65bf3e93430a8c24cc005f5739fc",
            "value": 570
          }
        },
        "addf6ed1c5b645b0bb7e4fb9ddcf3d8b": {
          "model_module": "@jupyter-widgets/controls",
          "model_name": "HTMLModel",
          "model_module_version": "1.5.0",
          "state": {
            "_dom_classes": [],
            "_model_module": "@jupyter-widgets/controls",
            "_model_module_version": "1.5.0",
            "_model_name": "HTMLModel",
            "_view_count": null,
            "_view_module": "@jupyter-widgets/controls",
            "_view_module_version": "1.5.0",
            "_view_name": "HTMLView",
            "description": "",
            "description_tooltip": null,
            "layout": "IPY_MODEL_1df298c41a7d4054a169fe04f302fcf4",
            "placeholder": "​",
            "style": "IPY_MODEL_9d0175df6b3b422296fd8059d288f48a",
            "value": " 570/570 [00:00&lt;00:00, 14.4kB/s]"
          }
        },
        "b918e5d699224c8e8ffce5712e2500cd": {
          "model_module": "@jupyter-widgets/base",
          "model_name": "LayoutModel",
          "model_module_version": "1.2.0",
          "state": {
            "_model_module": "@jupyter-widgets/base",
            "_model_module_version": "1.2.0",
            "_model_name": "LayoutModel",
            "_view_count": null,
            "_view_module": "@jupyter-widgets/base",
            "_view_module_version": "1.2.0",
            "_view_name": "LayoutView",
            "align_content": null,
            "align_items": null,
            "align_self": null,
            "border": null,
            "bottom": null,
            "display": null,
            "flex": null,
            "flex_flow": null,
            "grid_area": null,
            "grid_auto_columns": null,
            "grid_auto_flow": null,
            "grid_auto_rows": null,
            "grid_column": null,
            "grid_gap": null,
            "grid_row": null,
            "grid_template_areas": null,
            "grid_template_columns": null,
            "grid_template_rows": null,
            "height": null,
            "justify_content": null,
            "justify_items": null,
            "left": null,
            "margin": null,
            "max_height": null,
            "max_width": null,
            "min_height": null,
            "min_width": null,
            "object_fit": null,
            "object_position": null,
            "order": null,
            "overflow": null,
            "overflow_x": null,
            "overflow_y": null,
            "padding": null,
            "right": null,
            "top": null,
            "visibility": null,
            "width": null
          }
        },
        "39431362abea4372b7bd17a03995610f": {
          "model_module": "@jupyter-widgets/base",
          "model_name": "LayoutModel",
          "model_module_version": "1.2.0",
          "state": {
            "_model_module": "@jupyter-widgets/base",
            "_model_module_version": "1.2.0",
            "_model_name": "LayoutModel",
            "_view_count": null,
            "_view_module": "@jupyter-widgets/base",
            "_view_module_version": "1.2.0",
            "_view_name": "LayoutView",
            "align_content": null,
            "align_items": null,
            "align_self": null,
            "border": null,
            "bottom": null,
            "display": null,
            "flex": null,
            "flex_flow": null,
            "grid_area": null,
            "grid_auto_columns": null,
            "grid_auto_flow": null,
            "grid_auto_rows": null,
            "grid_column": null,
            "grid_gap": null,
            "grid_row": null,
            "grid_template_areas": null,
            "grid_template_columns": null,
            "grid_template_rows": null,
            "height": null,
            "justify_content": null,
            "justify_items": null,
            "left": null,
            "margin": null,
            "max_height": null,
            "max_width": null,
            "min_height": null,
            "min_width": null,
            "object_fit": null,
            "object_position": null,
            "order": null,
            "overflow": null,
            "overflow_x": null,
            "overflow_y": null,
            "padding": null,
            "right": null,
            "top": null,
            "visibility": null,
            "width": null
          }
        },
        "e7040b464d0b492093416edc7f7e7a32": {
          "model_module": "@jupyter-widgets/controls",
          "model_name": "DescriptionStyleModel",
          "model_module_version": "1.5.0",
          "state": {
            "_model_module": "@jupyter-widgets/controls",
            "_model_module_version": "1.5.0",
            "_model_name": "DescriptionStyleModel",
            "_view_count": null,
            "_view_module": "@jupyter-widgets/base",
            "_view_module_version": "1.2.0",
            "_view_name": "StyleView",
            "description_width": ""
          }
        },
        "32e00856a08146dca0ce900e3a0fc8ee": {
          "model_module": "@jupyter-widgets/base",
          "model_name": "LayoutModel",
          "model_module_version": "1.2.0",
          "state": {
            "_model_module": "@jupyter-widgets/base",
            "_model_module_version": "1.2.0",
            "_model_name": "LayoutModel",
            "_view_count": null,
            "_view_module": "@jupyter-widgets/base",
            "_view_module_version": "1.2.0",
            "_view_name": "LayoutView",
            "align_content": null,
            "align_items": null,
            "align_self": null,
            "border": null,
            "bottom": null,
            "display": null,
            "flex": null,
            "flex_flow": null,
            "grid_area": null,
            "grid_auto_columns": null,
            "grid_auto_flow": null,
            "grid_auto_rows": null,
            "grid_column": null,
            "grid_gap": null,
            "grid_row": null,
            "grid_template_areas": null,
            "grid_template_columns": null,
            "grid_template_rows": null,
            "height": null,
            "justify_content": null,
            "justify_items": null,
            "left": null,
            "margin": null,
            "max_height": null,
            "max_width": null,
            "min_height": null,
            "min_width": null,
            "object_fit": null,
            "object_position": null,
            "order": null,
            "overflow": null,
            "overflow_x": null,
            "overflow_y": null,
            "padding": null,
            "right": null,
            "top": null,
            "visibility": null,
            "width": null
          }
        },
        "a75f65bf3e93430a8c24cc005f5739fc": {
          "model_module": "@jupyter-widgets/controls",
          "model_name": "ProgressStyleModel",
          "model_module_version": "1.5.0",
          "state": {
            "_model_module": "@jupyter-widgets/controls",
            "_model_module_version": "1.5.0",
            "_model_name": "ProgressStyleModel",
            "_view_count": null,
            "_view_module": "@jupyter-widgets/base",
            "_view_module_version": "1.2.0",
            "_view_name": "StyleView",
            "bar_color": null,
            "description_width": ""
          }
        },
        "1df298c41a7d4054a169fe04f302fcf4": {
          "model_module": "@jupyter-widgets/base",
          "model_name": "LayoutModel",
          "model_module_version": "1.2.0",
          "state": {
            "_model_module": "@jupyter-widgets/base",
            "_model_module_version": "1.2.0",
            "_model_name": "LayoutModel",
            "_view_count": null,
            "_view_module": "@jupyter-widgets/base",
            "_view_module_version": "1.2.0",
            "_view_name": "LayoutView",
            "align_content": null,
            "align_items": null,
            "align_self": null,
            "border": null,
            "bottom": null,
            "display": null,
            "flex": null,
            "flex_flow": null,
            "grid_area": null,
            "grid_auto_columns": null,
            "grid_auto_flow": null,
            "grid_auto_rows": null,
            "grid_column": null,
            "grid_gap": null,
            "grid_row": null,
            "grid_template_areas": null,
            "grid_template_columns": null,
            "grid_template_rows": null,
            "height": null,
            "justify_content": null,
            "justify_items": null,
            "left": null,
            "margin": null,
            "max_height": null,
            "max_width": null,
            "min_height": null,
            "min_width": null,
            "object_fit": null,
            "object_position": null,
            "order": null,
            "overflow": null,
            "overflow_x": null,
            "overflow_y": null,
            "padding": null,
            "right": null,
            "top": null,
            "visibility": null,
            "width": null
          }
        },
        "9d0175df6b3b422296fd8059d288f48a": {
          "model_module": "@jupyter-widgets/controls",
          "model_name": "DescriptionStyleModel",
          "model_module_version": "1.5.0",
          "state": {
            "_model_module": "@jupyter-widgets/controls",
            "_model_module_version": "1.5.0",
            "_model_name": "DescriptionStyleModel",
            "_view_count": null,
            "_view_module": "@jupyter-widgets/base",
            "_view_module_version": "1.2.0",
            "_view_name": "StyleView",
            "description_width": ""
          }
        }
      }
    }
  },
  "cells": [
    {
      "cell_type": "markdown",
      "metadata": {
        "id": "view-in-github",
        "colab_type": "text"
      },
      "source": [
        "<a href=\"https://colab.research.google.com/github/myndaaa/Natural-Language-Processing/blob/main/FNLP_Tutorial2_2024.ipynb\" target=\"_parent\"><img src=\"https://colab.research.google.com/assets/colab-badge.svg\" alt=\"Open In Colab\"/></a>"
      ]
    },
    {
      "cell_type": "markdown",
      "metadata": {
        "id": "UiW6MAJlg4T7"
      },
      "source": [
        "#**COS30018 FNLP Tutorial 2**\n",
        "\n",
        "##**Lab Task Submission at bottom #PassTask1**\n",
        "## **Name: Mysha Nahiyan Shemontee**\n",
        "## **Student ID: 102773618**"
      ]
    },
    {
      "cell_type": "markdown",
      "source": [
        "**Let's create tokens from documents**"
      ],
      "metadata": {
        "id": "gk7fZOIkpn2n"
      }
    },
    {
      "cell_type": "markdown",
      "source": [
        "![image.png](data:image/png;base64,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)"
      ],
      "metadata": {
        "id": "KSIJ2k3kpfMN"
      }
    },
    {
      "cell_type": "markdown",
      "source": [
        "# ⭐**I removed the lab part** ⭐\n",
        "**Because the file got too long and i had difficulty keeping track of how much i did** 😞"
      ],
      "metadata": {
        "id": "8WB2xu1R06jL"
      }
    },
    {
      "cell_type": "markdown",
      "source": [
        "# Lab Submission 1 (Due Sunday Week 3, 11:59 PM)\n",
        "\n",
        "**Read this article:**\n",
        "https://towardsdatascience.com/5-simple-ways-to-tokenize-text-in-python-92c6804edfc4#dfd5\n",
        "\n",
        "Hamburger text download: https://drive.google.com/file/d/1iDU01jVFr-1EDW3ZvolVLhwWrUig6Qax/view?usp=sharing\n",
        "\n",
        "1. From what you've learnt above and read in the article, perform tokenization on this hamburger text file. Use at least one method from this tutorial and one method from the online article (not inside this tutorial).\n",
        "\n",
        "2. Which way is the best form the different methods you've tried? Explain why? (rough length: 50-200 words)\n",
        "\n",
        "**Optional**:\n",
        "\n",
        "O1. Checkout tensorflows various tokenizers that have start of the art methods including (BERT based on transformers)\n",
        "Source: https://colab.research.google.com/github/tensorflow/text/blob/master/docs/guide/tokenizers.ipynb\n",
        "\n",
        "O2. Try tokenizing other languages (korean, chinese, indian, etc.)\n",
        "\n",
        "\n",
        "\n"
      ],
      "metadata": {
        "id": "pi9w3A_HwOnS"
      }
    },
    {
      "cell_type": "code",
      "source": [
        "hamburger_text = \"A hamburger (or burger for short) is a food, which in American English is considered a sandwich (but not in other English varieties, such as British or Australian, in which the definition of sandwich is narrower),[1] consisting of one or more cooked patties—usually ground meat, typically beef—placed inside a sliced bread roll or bun. The patty may be pan fried, grilled, smoked or flame broiled. Hamburgers are often served with cheese, lettuce, tomato, onion, pickles, bacon, or chilis; condiments such as ketchup, mustard, mayonnaise, relish, or a \\\"special sauce\\\", often a variation of Thousand Island dressing; and are frequently placed on sesame seed buns. A hamburger topped with cheese is called a cheeseburger.\""
      ],
      "metadata": {
        "id": "NNcM-gJJvd_W"
      },
      "execution_count": 31,
      "outputs": []
    },
    {
      "cell_type": "code",
      "source": [
        "#list of symbol s for preproceessing\n",
        "list_of_symbols = [\"™\",\"®\",\"©\",\"&trade;\",\"&reg;\",\"&copy;\",\"&#8482;\",\"&#174;\",\"&#169;\",\"\\n\"]"
      ],
      "metadata": {
        "id": "3eiApPElvgmY"
      },
      "execution_count": 23,
      "outputs": []
    },
    {
      "cell_type": "code",
      "source": [
        "#cleaning n processing\n",
        "#Function to clean and preprocess list\n",
        "#:param list of words:\n",
        "#return: List of cleaned word\n",
        "import string\n",
        "\n",
        "def textpreprocessing(textprocess):\n",
        "\n",
        "    #remove the punctuations\n",
        "    text_to_process = \"\".join([char for char in textprocess if char not in string.punctuation])\n",
        "\n",
        "    #remove symbol\n",
        "    for symbol in list_of_symbols:\n",
        "        text_to_process = text_to_process.replace(symbol,\" \")\n",
        "\n",
        "    #remove unicode\n",
        "    text_to_process = text_to_process.encode(\"ascii\", \"ignore\")\n",
        "    text_to_process = text_to_process.decode()\n",
        "\n",
        "    return text_to_process"
      ],
      "metadata": {
        "id": "nIdISWrivq0R"
      },
      "execution_count": 24,
      "outputs": []
    },
    {
      "cell_type": "code",
      "source": [
        "hamburger_text = textpreprocessing(hamburger_text)\n",
        "\n",
        "print(hamburger_text)"
      ],
      "metadata": {
        "id": "DJq8vdVtvsE4",
        "outputId": "d646e5dc-7a0e-4e5d-81b1-712cce839d00",
        "colab": {
          "base_uri": "https://localhost:8080/"
        }
      },
      "execution_count": 17,
      "outputs": [
        {
          "output_type": "stream",
          "name": "stdout",
          "text": [
            "A hamburger or burger for short is a food which in American English is considered a sandwich but not in other English varieties such as British or Australian in which the definition of sandwich is narrower1 consisting of one or more cooked pattiesusually ground meat typically beefplaced inside a sliced bread roll or bun The patty may be pan fried grilled smoked or flame broiled Hamburgers are often served with cheese lettuce tomato onion pickles bacon or chilis condiments such as ketchup mustard mayonnaise relish or a special sauce often a variation of Thousand Island dressing and are frequently placed on sesame seed buns A hamburger topped with cheese is called a cheeseburger\n"
          ]
        }
      ]
    },
    {
      "cell_type": "markdown",
      "source": [
        "**NLTK method**"
      ],
      "metadata": {
        "id": "ngmPE8CVqYea"
      }
    },
    {
      "cell_type": "code",
      "source": [
        "!pip install nltk\n"
      ],
      "metadata": {
        "id": "p5Gi3tHaqbg3",
        "outputId": "abb12a64-b5e7-4913-b415-cfe2dc71b625",
        "colab": {
          "base_uri": "https://localhost:8080/"
        }
      },
      "execution_count": 25,
      "outputs": [
        {
          "output_type": "stream",
          "name": "stdout",
          "text": [
            "Requirement already satisfied: nltk in /usr/local/lib/python3.10/dist-packages (3.8.1)\n",
            "Requirement already satisfied: click in /usr/local/lib/python3.10/dist-packages (from nltk) (8.1.7)\n",
            "Requirement already satisfied: joblib in /usr/local/lib/python3.10/dist-packages (from nltk) (1.3.2)\n",
            "Requirement already satisfied: regex>=2021.8.3 in /usr/local/lib/python3.10/dist-packages (from nltk) (2023.12.25)\n",
            "Requirement already satisfied: tqdm in /usr/local/lib/python3.10/dist-packages (from nltk) (4.66.2)\n"
          ]
        }
      ]
    },
    {
      "cell_type": "code",
      "source": [
        "import nltk\n",
        "from nltk.tokenize import RegexpTokenizer\n",
        "from nltk.corpus import stopwords\n",
        "\n",
        "tokenizer = RegexpTokenizer(\"[\\w']{3,}\")\n",
        "#stopwords.words('english')"
      ],
      "metadata": {
        "id": "6x0565P6qgcD"
      },
      "execution_count": 26,
      "outputs": []
    },
    {
      "cell_type": "code",
      "source": [
        "nltk.download('stopwords')"
      ],
      "metadata": {
        "id": "i4AdZT2at2uG",
        "outputId": "88838a83-8ea8-4d82-ef3c-a7bf0278a20c",
        "colab": {
          "base_uri": "https://localhost:8080/"
        }
      },
      "execution_count": 27,
      "outputs": [
        {
          "output_type": "stream",
          "name": "stderr",
          "text": [
            "[nltk_data] Downloading package stopwords to /root/nltk_data...\n",
            "[nltk_data]   Unzipping corpora/stopwords.zip.\n"
          ]
        },
        {
          "output_type": "execute_result",
          "data": {
            "text/plain": [
              "True"
            ]
          },
          "metadata": {},
          "execution_count": 27
        }
      ]
    },
    {
      "cell_type": "code",
      "source": [
        "hamburger_text = \"A hamburger (or burger for short) is a food, which in American English is considered a sandwich (but not in other English varieties, such as British or Australian, in which the definition of sandwich is narrower),[1] consisting of one or more cooked patties—usually ground meat, typically beef—placed inside a sliced bread roll or bun. The patty may be pan fried, grilled, smoked or flame broiled. Hamburgers are often served with cheese, lettuce, tomato, onion, pickles, bacon, or chilis; condiments such as ketchup, mustard, mayonnaise, relish, or a \\\"special sauce\\\", often a variation of Thousand Island dressing; and are frequently placed on sesame seed buns. A hamburger topped with cheese is called a cheeseburger.\"\n",
        "\n",
        "tokenize_list_words = tokenizer.tokenize(hamburger_text)"
      ],
      "metadata": {
        "id": "ZD-yBiult4c2"
      },
      "execution_count": 28,
      "outputs": []
    },
    {
      "cell_type": "code",
      "source": [
        "for item in tokenize_list_words:\n",
        "    if item in stopwords.words('english'):\n",
        "        tokenize_list_words.remove(item)"
      ],
      "metadata": {
        "id": "dSMt_8xEuF1G"
      },
      "execution_count": 29,
      "outputs": []
    },
    {
      "cell_type": "code",
      "source": [
        "print(tokenize_list_words)"
      ],
      "metadata": {
        "id": "gZr5Bp4TuGek",
        "outputId": "1b0d0b9e-d580-498f-dab1-bc0b6acae902",
        "colab": {
          "base_uri": "https://localhost:8080/"
        }
      },
      "execution_count": 30,
      "outputs": [
        {
          "output_type": "stream",
          "name": "stdout",
          "text": [
            "['hamburger', 'burger', 'short', 'food', 'American', 'English', 'considered', 'sandwich', 'not', 'English', 'varieties', 'British', 'Australian', 'the', 'definition', 'sandwich', 'narrower', 'consisting', 'one', 'cooked', 'patties', 'usually', 'ground', 'meat', 'typically', 'beef', 'placed', 'inside', 'sliced', 'bread', 'roll', 'bun', 'The', 'patty', 'may', 'pan', 'fried', 'grilled', 'smoked', 'flame', 'broiled', 'Hamburgers', 'often', 'served', 'cheese', 'lettuce', 'tomato', 'onion', 'pickles', 'bacon', 'chilis', 'condiments', 'ketchup', 'mustard', 'mayonnaise', 'relish', 'special', 'sauce', 'often', 'variation', 'Thousand', 'Island', 'dressing', 'are', 'frequently', 'placed', 'sesame', 'seed', 'buns', 'hamburger', 'topped', 'cheese', 'called', 'cheeseburger']\n"
          ]
        }
      ]
    },
    {
      "cell_type": "markdown",
      "source": [
        "**Gensim Method**"
      ],
      "metadata": {
        "id": "8vVCgkOCuTSh"
      }
    },
    {
      "cell_type": "code",
      "source": [
        "# Install Gensim\n",
        "!pip install gensim"
      ],
      "metadata": {
        "id": "kQU9ZE33uWxJ",
        "outputId": "5d4a3dc0-a569-4e10-89ce-0240f7e50394",
        "colab": {
          "base_uri": "https://localhost:8080/"
        }
      },
      "execution_count": 32,
      "outputs": [
        {
          "output_type": "stream",
          "name": "stdout",
          "text": [
            "Requirement already satisfied: gensim in /usr/local/lib/python3.10/dist-packages (4.3.2)\n",
            "Requirement already satisfied: numpy>=1.18.5 in /usr/local/lib/python3.10/dist-packages (from gensim) (1.22.3)\n",
            "Requirement already satisfied: scipy>=1.7.0 in /usr/local/lib/python3.10/dist-packages (from gensim) (1.11.4)\n",
            "Requirement already satisfied: smart-open>=1.8.1 in /usr/local/lib/python3.10/dist-packages (from gensim) (6.4.0)\n"
          ]
        }
      ]
    },
    {
      "cell_type": "code",
      "source": [
        "# Import necessary libraries\n",
        "import gensim\n",
        "from gensim.utils import simple_preprocess"
      ],
      "metadata": {
        "id": "PEY4BjOjwIxE"
      },
      "execution_count": 33,
      "outputs": []
    },
    {
      "cell_type": "code",
      "source": [
        "# burger\n",
        "hamburger_text = \"\"\"\n",
        "A hamburger (or burger for short) is a food, which in American English is considered a sandwich (but not in other English varieties, such as British or Australian, in which the definition of sandwich is narrower),[1] consisting of one or more cooked patties—usually ground meat, typically beef—placed inside a sliced bread roll or bun. The patty may be pan fried, grilled, smoked or flame broiled. Hamburgers are often served with cheese, lettuce, tomato, onion, pickles, bacon, or chilis; condiments such as ketchup, mustard, mayonnaise, relish, or a \"special sauce\", often a variation of Thousand Island dressing; and are frequently placed on sesame seed buns. A hamburger topped with cheese is called a cheeseburger.\n",
        "\"\"\"\n"
      ],
      "metadata": {
        "id": "PwWPdriBwNam"
      },
      "execution_count": 34,
      "outputs": []
    },
    {
      "cell_type": "code",
      "source": [
        "# Tokenize using gensim's function\n",
        "tokens = simple_preprocess(hamburger_text)"
      ],
      "metadata": {
        "id": "ahCYmKqDwTJz"
      },
      "execution_count": 35,
      "outputs": []
    },
    {
      "cell_type": "code",
      "source": [
        "# Print the tokens\n",
        "print(tokens)"
      ],
      "metadata": {
        "id": "s-RFoLSswZit",
        "outputId": "c06a70d5-0ee1-41b5-9a8e-57192137729d",
        "colab": {
          "base_uri": "https://localhost:8080/"
        }
      },
      "execution_count": 36,
      "outputs": [
        {
          "output_type": "stream",
          "name": "stdout",
          "text": [
            "['hamburger', 'or', 'burger', 'for', 'short', 'is', 'food', 'which', 'in', 'american', 'english', 'is', 'considered', 'sandwich', 'but', 'not', 'in', 'other', 'english', 'varieties', 'such', 'as', 'british', 'or', 'australian', 'in', 'which', 'the', 'definition', 'of', 'sandwich', 'is', 'narrower', 'consisting', 'of', 'one', 'or', 'more', 'cooked', 'patties', 'usually', 'ground', 'meat', 'typically', 'beef', 'placed', 'inside', 'sliced', 'bread', 'roll', 'or', 'bun', 'the', 'patty', 'may', 'be', 'pan', 'fried', 'grilled', 'smoked', 'or', 'flame', 'broiled', 'hamburgers', 'are', 'often', 'served', 'with', 'cheese', 'lettuce', 'tomato', 'onion', 'pickles', 'bacon', 'or', 'chilis', 'condiments', 'such', 'as', 'ketchup', 'mustard', 'mayonnaise', 'relish', 'or', 'special', 'sauce', 'often', 'variation', 'of', 'thousand', 'island', 'dressing', 'and', 'are', 'frequently', 'placed', 'on', 'sesame', 'seed', 'buns', 'hamburger', 'topped', 'with', 'cheese', 'is', 'called', 'cheeseburger']\n"
          ]
        }
      ]
    },
    {
      "cell_type": "markdown",
      "source": [
        "# **My opinions**\n",
        "seeing NLTK videos on YT, I particularly appreciate the built-in feature for removing stop words available in the library. its quite helpful that, list of stop words can be customized, allowing the addition of more words and supporting different languages. this definitely makes analysis a lot better (IMHO). such as during a big data course i learned that in sentiment analysis, stop words are kinda unnecesary, hence from this point of view, i prefer and see NLTK as more of an advantage to use. apart from this I found it easier to understand the nltk parts dr joel taught in the top part of this ipynb.  "
      ],
      "metadata": {
        "id": "FWr0S8wbwdee"
      }
    },
    {
      "cell_type": "markdown",
      "source": [
        "# Optional"
      ],
      "metadata": {
        "id": "Ei5FZFLXz2eS"
      }
    },
    {
      "cell_type": "code",
      "source": [
        "!pip install tensorflow"
      ],
      "metadata": {
        "id": "QCf0wXfuz1uA",
        "outputId": "ef1507d1-68a8-4a85-8766-63f5205f9803",
        "colab": {
          "base_uri": "https://localhost:8080/"
        }
      },
      "execution_count": 42,
      "outputs": [
        {
          "output_type": "stream",
          "name": "stdout",
          "text": [
            "Requirement already satisfied: tensorflow in /usr/local/lib/python3.10/dist-packages (2.15.0)\n",
            "Requirement already satisfied: absl-py>=1.0.0 in /usr/local/lib/python3.10/dist-packages (from tensorflow) (1.4.0)\n",
            "Requirement already satisfied: astunparse>=1.6.0 in /usr/local/lib/python3.10/dist-packages (from tensorflow) (1.6.3)\n",
            "Requirement already satisfied: flatbuffers>=23.5.26 in /usr/local/lib/python3.10/dist-packages (from tensorflow) (24.3.7)\n",
            "Requirement already satisfied: gast!=0.5.0,!=0.5.1,!=0.5.2,>=0.2.1 in /usr/local/lib/python3.10/dist-packages (from tensorflow) (0.5.4)\n",
            "Requirement already satisfied: google-pasta>=0.1.1 in /usr/local/lib/python3.10/dist-packages (from tensorflow) (0.2.0)\n",
            "Requirement already satisfied: h5py>=2.9.0 in /usr/local/lib/python3.10/dist-packages (from tensorflow) (3.9.0)\n",
            "Requirement already satisfied: libclang>=13.0.0 in /usr/local/lib/python3.10/dist-packages (from tensorflow) (16.0.6)\n",
            "Requirement already satisfied: ml-dtypes~=0.2.0 in /usr/local/lib/python3.10/dist-packages (from tensorflow) (0.2.0)\n",
            "Collecting numpy<2.0.0,>=1.23.5 (from tensorflow)\n",
            "  Downloading numpy-1.26.4-cp310-cp310-manylinux_2_17_x86_64.manylinux2014_x86_64.whl (18.2 MB)\n",
            "\u001b[2K     \u001b[90m━━━━━━━━━━━━━━━━━━━━━━━━━━━━━━━━━━━━━━━━\u001b[0m \u001b[32m18.2/18.2 MB\u001b[0m \u001b[31m51.5 MB/s\u001b[0m eta \u001b[36m0:00:00\u001b[0m\n",
            "\u001b[?25hRequirement already satisfied: opt-einsum>=2.3.2 in /usr/local/lib/python3.10/dist-packages (from tensorflow) (3.3.0)\n",
            "Requirement already satisfied: packaging in /usr/local/lib/python3.10/dist-packages (from tensorflow) (24.0)\n",
            "Requirement already satisfied: protobuf!=4.21.0,!=4.21.1,!=4.21.2,!=4.21.3,!=4.21.4,!=4.21.5,<5.0.0dev,>=3.20.3 in /usr/local/lib/python3.10/dist-packages (from tensorflow) (3.20.3)\n",
            "Requirement already satisfied: setuptools in /usr/local/lib/python3.10/dist-packages (from tensorflow) (67.7.2)\n",
            "Requirement already satisfied: six>=1.12.0 in /usr/local/lib/python3.10/dist-packages (from tensorflow) (1.16.0)\n",
            "Requirement already satisfied: termcolor>=1.1.0 in /usr/local/lib/python3.10/dist-packages (from tensorflow) (2.4.0)\n",
            "Requirement already satisfied: typing-extensions>=3.6.6 in /usr/local/lib/python3.10/dist-packages (from tensorflow) (4.10.0)\n",
            "Requirement already satisfied: wrapt<1.15,>=1.11.0 in /usr/local/lib/python3.10/dist-packages (from tensorflow) (1.14.1)\n",
            "Requirement already satisfied: tensorflow-io-gcs-filesystem>=0.23.1 in /usr/local/lib/python3.10/dist-packages (from tensorflow) (0.36.0)\n",
            "Requirement already satisfied: grpcio<2.0,>=1.24.3 in /usr/local/lib/python3.10/dist-packages (from tensorflow) (1.62.1)\n",
            "Requirement already satisfied: tensorboard<2.16,>=2.15 in /usr/local/lib/python3.10/dist-packages (from tensorflow) (2.15.2)\n",
            "Requirement already satisfied: tensorflow-estimator<2.16,>=2.15.0 in /usr/local/lib/python3.10/dist-packages (from tensorflow) (2.15.0)\n",
            "Requirement already satisfied: keras<2.16,>=2.15.0 in /usr/local/lib/python3.10/dist-packages (from tensorflow) (2.15.0)\n",
            "Requirement already satisfied: wheel<1.0,>=0.23.0 in /usr/local/lib/python3.10/dist-packages (from astunparse>=1.6.0->tensorflow) (0.43.0)\n",
            "Requirement already satisfied: google-auth<3,>=1.6.3 in /usr/local/lib/python3.10/dist-packages (from tensorboard<2.16,>=2.15->tensorflow) (2.27.0)\n",
            "Requirement already satisfied: google-auth-oauthlib<2,>=0.5 in /usr/local/lib/python3.10/dist-packages (from tensorboard<2.16,>=2.15->tensorflow) (1.2.0)\n",
            "Requirement already satisfied: markdown>=2.6.8 in /usr/local/lib/python3.10/dist-packages (from tensorboard<2.16,>=2.15->tensorflow) (3.5.2)\n",
            "Requirement already satisfied: requests<3,>=2.21.0 in /usr/local/lib/python3.10/dist-packages (from tensorboard<2.16,>=2.15->tensorflow) (2.31.0)\n",
            "Requirement already satisfied: tensorboard-data-server<0.8.0,>=0.7.0 in /usr/local/lib/python3.10/dist-packages (from tensorboard<2.16,>=2.15->tensorflow) (0.7.2)\n",
            "Requirement already satisfied: werkzeug>=1.0.1 in /usr/local/lib/python3.10/dist-packages (from tensorboard<2.16,>=2.15->tensorflow) (3.0.1)\n",
            "Requirement already satisfied: cachetools<6.0,>=2.0.0 in /usr/local/lib/python3.10/dist-packages (from google-auth<3,>=1.6.3->tensorboard<2.16,>=2.15->tensorflow) (5.3.3)\n",
            "Requirement already satisfied: pyasn1-modules>=0.2.1 in /usr/local/lib/python3.10/dist-packages (from google-auth<3,>=1.6.3->tensorboard<2.16,>=2.15->tensorflow) (0.3.0)\n",
            "Requirement already satisfied: rsa<5,>=3.1.4 in /usr/local/lib/python3.10/dist-packages (from google-auth<3,>=1.6.3->tensorboard<2.16,>=2.15->tensorflow) (4.9)\n",
            "Requirement already satisfied: requests-oauthlib>=0.7.0 in /usr/local/lib/python3.10/dist-packages (from google-auth-oauthlib<2,>=0.5->tensorboard<2.16,>=2.15->tensorflow) (1.4.0)\n",
            "Requirement already satisfied: charset-normalizer<4,>=2 in /usr/local/lib/python3.10/dist-packages (from requests<3,>=2.21.0->tensorboard<2.16,>=2.15->tensorflow) (3.3.2)\n",
            "Requirement already satisfied: idna<4,>=2.5 in /usr/local/lib/python3.10/dist-packages (from requests<3,>=2.21.0->tensorboard<2.16,>=2.15->tensorflow) (3.6)\n",
            "Requirement already satisfied: urllib3<3,>=1.21.1 in /usr/local/lib/python3.10/dist-packages (from requests<3,>=2.21.0->tensorboard<2.16,>=2.15->tensorflow) (2.0.7)\n",
            "Requirement already satisfied: certifi>=2017.4.17 in /usr/local/lib/python3.10/dist-packages (from requests<3,>=2.21.0->tensorboard<2.16,>=2.15->tensorflow) (2024.2.2)\n",
            "Requirement already satisfied: MarkupSafe>=2.1.1 in /usr/local/lib/python3.10/dist-packages (from werkzeug>=1.0.1->tensorboard<2.16,>=2.15->tensorflow) (2.1.5)\n",
            "Requirement already satisfied: pyasn1<0.6.0,>=0.4.6 in /usr/local/lib/python3.10/dist-packages (from pyasn1-modules>=0.2.1->google-auth<3,>=1.6.3->tensorboard<2.16,>=2.15->tensorflow) (0.5.1)\n",
            "Requirement already satisfied: oauthlib>=3.0.0 in /usr/local/lib/python3.10/dist-packages (from requests-oauthlib>=0.7.0->google-auth-oauthlib<2,>=0.5->tensorboard<2.16,>=2.15->tensorflow) (3.2.2)\n",
            "Installing collected packages: numpy\n",
            "  Attempting uninstall: numpy\n",
            "    Found existing installation: numpy 1.22.3\n",
            "    Uninstalling numpy-1.22.3:\n",
            "      Successfully uninstalled numpy-1.22.3\n",
            "Successfully installed numpy-1.26.4\n"
          ]
        }
      ]
    },
    {
      "cell_type": "code",
      "source": [
        "import tensorflow as tf\n",
        "from transformers import BertTokenizer"
      ],
      "metadata": {
        "id": "HNa0cv2fz4qY"
      },
      "execution_count": 43,
      "outputs": []
    },
    {
      "cell_type": "code",
      "source": [
        "# BERT tokenizer\n",
        "tokenizer = BertTokenizer.from_pretrained('bert-base-uncased')"
      ],
      "metadata": {
        "id": "S0cxgZrS0NaF",
        "outputId": "d3acd512-c7ac-400b-b6ac-afcf96c03526",
        "colab": {
          "base_uri": "https://localhost:8080/",
          "height": 269,
          "referenced_widgets": [
            "a3a1ca02161741d781d60f44b63766e1",
            "5d7bd8f50c1d4e2f9b5e52c792763363",
            "fd6cc9ca01184e98901ec5f490bcecab",
            "699ba035b2a34b5dbb1bc0a91ff82fd6",
            "1e2b3e0c60a44c3d83d23717f37d0f49",
            "2ae979cd7e1b47e9b41abd54d8c90e18",
            "1c7ec0e6276d407d8dd533b0b593b2e8",
            "52f5b28f393641028b529a36a69ef980",
            "cace0a907d02404bbff0f17d79628ca5",
            "469882103b9446f7ae8ad1a7e6338b84",
            "902da9bd9635467eab64b213cbda4af0",
            "82fa81b8109f4cf2b68355204016a2ca",
            "f0b6c87555734b97a105e0fc5d7a8ef5",
            "31c37b1d0636436aaaf21c8f1c922fa3",
            "fbfff6ad1a6d4eaf91fc94121a36757e",
            "63538c00255b4881ae1971d42c283db7",
            "6d04804fc8864b7f8c19c3ea0b27171c",
            "979fe427b5a4412cb61cb8e9cd3ee3f8",
            "a5e993d9351a4db8b1ee547d2e619740",
            "8a90dec1125449a6b5f8d1bd0f18a944",
            "5871296fabb7430c99620c22f283b64d",
            "479ecf493c6c43b5a2a5961807d9af6b",
            "4dfdfb0053a94ab1a9d5e47373976d63",
            "1e645fbc797c474b84f8d3281d0d5f18",
            "4dbbf044a34f4de1a2a2a24248ee2602",
            "1513dd2ea8aa46998966c3ab72a33d99",
            "68c3add4cfba4f6a86c343127be6f3b3",
            "51be0d06bb0c4aaa8a7d45bc0819dd7d",
            "f17ec8f594d941168bc4d6fd78e1d0d5",
            "d7f9a17049c241c395ed5c8a1f84674e",
            "0b62644142ee49a8b410bdfe8422aa3f",
            "011a2901ef324c7f85b576e59c3e05ec",
            "c540ae75bdd8424dbcfe410bbb5fa5ff",
            "342025893f624344a522f70d1128e2b1",
            "5bfdb2992ca94f88a03d0d341acb27a3",
            "09d6f5597c4f47e4b0b705ab6939281e",
            "addf6ed1c5b645b0bb7e4fb9ddcf3d8b",
            "b918e5d699224c8e8ffce5712e2500cd",
            "39431362abea4372b7bd17a03995610f",
            "e7040b464d0b492093416edc7f7e7a32",
            "32e00856a08146dca0ce900e3a0fc8ee",
            "a75f65bf3e93430a8c24cc005f5739fc",
            "1df298c41a7d4054a169fe04f302fcf4",
            "9d0175df6b3b422296fd8059d288f48a"
          ]
        }
      },
      "execution_count": 44,
      "outputs": [
        {
          "output_type": "stream",
          "name": "stderr",
          "text": [
            "/usr/local/lib/python3.10/dist-packages/huggingface_hub/utils/_token.py:88: UserWarning: \n",
            "The secret `HF_TOKEN` does not exist in your Colab secrets.\n",
            "To authenticate with the Hugging Face Hub, create a token in your settings tab (https://huggingface.co/settings/tokens), set it as secret in your Google Colab and restart your session.\n",
            "You will be able to reuse this secret in all of your notebooks.\n",
            "Please note that authentication is recommended but still optional to access public models or datasets.\n",
            "  warnings.warn(\n"
          ]
        },
        {
          "output_type": "display_data",
          "data": {
            "text/plain": [
              "tokenizer_config.json:   0%|          | 0.00/48.0 [00:00<?, ?B/s]"
            ],
            "application/vnd.jupyter.widget-view+json": {
              "version_major": 2,
              "version_minor": 0,
              "model_id": "a3a1ca02161741d781d60f44b63766e1"
            }
          },
          "metadata": {}
        },
        {
          "output_type": "display_data",
          "data": {
            "text/plain": [
              "vocab.txt:   0%|          | 0.00/232k [00:00<?, ?B/s]"
            ],
            "application/vnd.jupyter.widget-view+json": {
              "version_major": 2,
              "version_minor": 0,
              "model_id": "82fa81b8109f4cf2b68355204016a2ca"
            }
          },
          "metadata": {}
        },
        {
          "output_type": "display_data",
          "data": {
            "text/plain": [
              "tokenizer.json:   0%|          | 0.00/466k [00:00<?, ?B/s]"
            ],
            "application/vnd.jupyter.widget-view+json": {
              "version_major": 2,
              "version_minor": 0,
              "model_id": "4dfdfb0053a94ab1a9d5e47373976d63"
            }
          },
          "metadata": {}
        },
        {
          "output_type": "display_data",
          "data": {
            "text/plain": [
              "config.json:   0%|          | 0.00/570 [00:00<?, ?B/s]"
            ],
            "application/vnd.jupyter.widget-view+json": {
              "version_major": 2,
              "version_minor": 0,
              "model_id": "342025893f624344a522f70d1128e2b1"
            }
          },
          "metadata": {}
        }
      ]
    },
    {
      "cell_type": "code",
      "source": [
        "#using dr joel burger sentence\n",
        "sentence = \"A hamburger or burger for short is a food, which in American English is considered a sandwich but not in other English varieties, such as British or Australian, in which the definition of sandwich is narrower\""
      ],
      "metadata": {
        "id": "J_DKWsKT0TeU"
      },
      "execution_count": 47,
      "outputs": []
    },
    {
      "cell_type": "code",
      "source": [
        "tokens = tokenizer.tokenize(sentence)\n",
        "\n",
        "print(\"Original Sentence:\", sentence)\n",
        "print(\"Tokenized Sentence:\", tokens)"
      ],
      "metadata": {
        "id": "wnzIE92j0bty",
        "outputId": "6d80b196-7934-4319-ecf7-3059197443f1",
        "colab": {
          "base_uri": "https://localhost:8080/"
        }
      },
      "execution_count": 48,
      "outputs": [
        {
          "output_type": "stream",
          "name": "stdout",
          "text": [
            "Original Sentence: A hamburger or burger for short is a food, which in American English is considered a sandwich but not in other English varieties, such as British or Australian, in which the definition of sandwich is narrower\n",
            "Tokenized Sentence: ['a', 'hamburger', 'or', 'burger', 'for', 'short', 'is', 'a', 'food', ',', 'which', 'in', 'american', 'english', 'is', 'considered', 'a', 'sandwich', 'but', 'not', 'in', 'other', 'english', 'varieties', ',', 'such', 'as', 'british', 'or', 'australian', ',', 'in', 'which', 'the', 'definition', 'of', 'sandwich', 'is', 'narrower']\n"
          ]
        }
      ]
    },
    {
      "cell_type": "markdown",
      "source": [
        "# Tokenization with my first n second language\n",
        "\n",
        "*   French\n",
        "*   Bangla\n",
        "\n"
      ],
      "metadata": {
        "id": "soHBDYXmxiVf"
      }
    },
    {
      "cell_type": "code",
      "source": [
        "# french\n",
        "#texte: Pourquoi est-ce que le crocodile a été recalé à son examen de conduite ? Parce qu'il est toujours en train de faire des crocodiles !\n",
        "français = \"Pourquoi est-ce que le crocodile a été recalé à son examen de conduite ? Parce qu'il est toujours en train de faire des crocodiles !\""
      ],
      "metadata": {
        "id": "HBSHt5wUxpR6"
      },
      "execution_count": 39,
      "outputs": []
    },
    {
      "cell_type": "code",
      "source": [
        "from nltk.tokenize import RegexpTokenizer\n",
        "\n",
        "tokenize_list_words = tokenizer.tokenize(français)\n",
        "\n",
        "tokenize_list_words"
      ],
      "metadata": {
        "id": "q0AVn5H4yYdk",
        "outputId": "0063367c-56c4-4b0e-ae0e-578c8f320f2d",
        "colab": {
          "base_uri": "https://localhost:8080/"
        }
      },
      "execution_count": 40,
      "outputs": [
        {
          "output_type": "execute_result",
          "data": {
            "text/plain": [
              "['Pourquoi',\n",
              " 'est',\n",
              " 'que',\n",
              " 'crocodile',\n",
              " 'été',\n",
              " 'recalé',\n",
              " 'son',\n",
              " 'examen',\n",
              " 'conduite',\n",
              " 'Parce',\n",
              " \"qu'il\",\n",
              " 'est',\n",
              " 'toujours',\n",
              " 'train',\n",
              " 'faire',\n",
              " 'des',\n",
              " 'crocodiles']"
            ]
          },
          "metadata": {},
          "execution_count": 40
        }
      ]
    },
    {
      "cell_type": "markdown",
      "source": [
        "**Hmm looks good**"
      ],
      "metadata": {
        "id": "uSDBR-NnyovN"
      }
    },
    {
      "cell_type": "code",
      "source": [
        "# bangla\n",
        "# text: বাবা: বেটা, তুমি খুব অলস। তুমি আমার একটি গল্প শেষ করতে অনেক সময় লাগিয়েছ। বেটা: হ্যাঁ, বাবা, আমি খুব অলস। আমি তো আপনার মতো একজন সুপারহিরো নয়।\n",
        "bangla = \"বাবা: বেটা, তুমি খুব অলস। তুমি আমার একটি গল্প শেষ করতে অনেক সময় লাগিয়েছ। বেটা: হ্যাঁ, বাবা, আমি খুব অলস। আমি তো আপনার মতো একজন সুপারহিরো নয়।\""
      ],
      "metadata": {
        "id": "Cs9_fO0CxbLj"
      },
      "execution_count": 37,
      "outputs": []
    },
    {
      "cell_type": "code",
      "source": [
        "from nltk.tokenize import RegexpTokenizer\n",
        "\n",
        "tokenize_list_words = tokenizer.tokenize(bangla)\n",
        "\n",
        "tokenize_list_words"
      ],
      "metadata": {
        "id": "Twwvf-QqyuBg",
        "outputId": "ce400666-d530-49c9-d115-1660f589e40c",
        "colab": {
          "base_uri": "https://localhost:8080/"
        }
      },
      "execution_count": 41,
      "outputs": [
        {
          "output_type": "execute_result",
          "data": {
            "text/plain": [
              "['অলস', 'একট', 'করত', 'সময', 'অলস', 'আপন', 'একজন']"
            ]
          },
          "metadata": {},
          "execution_count": 41
        }
      ]
    },
    {
      "cell_type": "markdown",
      "source": [
        "hmm looks bad, couldnt detect all words, i believe its primarily due to the fact that regez tokenizer supports english texts, as we write french with english letters except letters with accents, it paired up ok with french, but bangla uses a completely different script and the library dont support it. I havent done enough research on what other tokenizing library might be out there that supports non anglo scripts."
      ],
      "metadata": {
        "id": "J3NotuhCyyei"
      }
    }
  ]
}